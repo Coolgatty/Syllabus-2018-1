{
 "cells": [
  {
   "cell_type": "markdown",
   "metadata": {},
   "source": [
    "# Ayudantía: Regex y Web Services\n",
    "Javier Dreves y Benjamín Earle"
   ]
  },
  {
   "cell_type": "markdown",
   "metadata": {},
   "source": [
    "La meta de esta ayudantía es obtener y modificar tweets de un usuario de twitter.\n",
    "\n",
    "Para lograr esto se deberá conseguir el usuario y las palabras que deberán ser modificadas de los _tweets_. Estas palabras se encuentran alteradas y pueden obtenerlas [en este link](https://demo5989374.mockable.io). Para hacer esto, deberán utilizar REgex y una serie de reglas para limpiar el texto.\n",
    "\n",
    "Una vez obtenidas las palabras a modificar, se deberán obtener los _tweets_ del usuario utilizando la API de Twitter. Luego, se deberán retweetear con las modificaciones pedidas."
   ]
  },
  {
   "cell_type": "markdown",
   "metadata": {},
   "source": [
    "### Parte1: Obtención de las palabras a modificar\n",
    "\n",
    "Las palabras se encuentran [aquí](https://demo5989374.mockable.io).\n",
    "\n",
    "Las reglas que debemos utilizar para obtener el texto original son:\n",
    "\n",
    "- Cada vez que se aparece el string `'<Dos Puntos>'` se debe reemplazar con `':'`.\n",
    "- Cada vez que aparece un `'$'` seguido de uno o más números, este se debe reemplazar con un string vacío.\n",
    "- Cada vez que aparece el string `'NO ESPACIO'` o `'NO ESPACIOS'` también se debe reemplazar con un string vacío.\n",
    "- Cada vez que aparece `'=='` seguido de una o más letras minúsculas y seguido denuevo por `'=='` también se reemplaza con un string vacío (Ejemplo: `'==inxqo=='`).\n",
    "- Por último, para obtener un documento JSON válido, es necesario reemplazar los `'` con `\"`."
   ]
  },
  {
   "cell_type": "markdown",
   "metadata": {},
   "source": [
    "### Parte2: API de Twitter\n",
    "\n",
    "En esta parte deberán obtener los _tweets_ del usuario y luego retweetaerlos con su cuenta que pueden obtener [aquí](https://developer.twitter.com/content/developer-twitter/en.html). \n",
    "\n",
    "OJO: Twitter es bien quisquilloso por lo que es necesario validar la cuenta con las keys (Para esto se usa la librería `requests_oauthlib`)."
   ]
  },
  {
   "cell_type": "code",
   "execution_count": null,
   "metadata": {
    "collapsed": true
   },
   "outputs": [],
   "source": []
  }
 ],
 "metadata": {
  "kernelspec": {
   "display_name": "Python 3",
   "language": "python",
   "name": "python3"
  },
  "language_info": {
   "codemirror_mode": {
    "name": "ipython",
    "version": 3
   },
   "file_extension": ".py",
   "mimetype": "text/x-python",
   "name": "python",
   "nbconvert_exporter": "python",
   "pygments_lexer": "ipython3",
   "version": "3.5.2"
  }
 },
 "nbformat": 4,
 "nbformat_minor": 2
}
