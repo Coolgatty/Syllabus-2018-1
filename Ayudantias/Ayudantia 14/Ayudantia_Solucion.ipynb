{
 "cells": [
  {
   "cell_type": "markdown",
   "metadata": {},
   "source": [
    "# Ayudantía: Regex y Web Services\n",
    "Javier Dreves y Benjamin Earle"
   ]
  },
  {
   "cell_type": "markdown",
   "metadata": {},
   "source": [
    "La meta de esta ayudantía es obtener y modificar tweets de un usuario de twitter.\n",
    "\n",
    "Para lograr esto se deberá conseguir el usuario las palabras que deberán ser modificadas de los _tweets_.Estas palabras se encuentran alteradas y pueden obtenerlas [en este link](https://demo5989374.mockable.io). Para hacer esto, deberán utilizar REgex y una serie de reglas para limpiar el texto.\n",
    "\n",
    "Una vez obtenidas las palabras a modificar, se deberán obtener los _tweets_ del usuario utilizando la API de Twitter. Luego, se deberán retweetear con las modificaciones pedidas."
   ]
  },
  {
   "cell_type": "markdown",
   "metadata": {},
   "source": [
    "### Parte1: Obtención de las palabras a modificar\n",
    "\n",
    "Las palabras se encuentran [aquí](https://demo5989374.mockable.io).\n",
    "\n",
    "Las reglas que debemos utilizar para obtener el texto original son:\n",
    "\n",
    "- Cada vez que se aparece el string `'<Dos Puntos>'` se debe reemplazar con `':'`.\n",
    "- Cada vez que aparece un `'$'` seguido de uno o más números, este se debe reemplazar con un string vacío.\n",
    "- Cada vez que aparece el string `'NO ESPACIO'` o `'NO ESPACIOS'` también se debe reemplazar con un string vacío.\n",
    "- Cada vez que aparece `'=='` seguido de una o más letras minúsculas y seguido denuevo por `'=='` también se reemplaza con un string vacío (Ejemplo: `'==inxqo=='`).\n",
    "- Por último, para obtener un documento JSON válido, es necesario reemplazar los `'` con `\"`.\n",
    "\n",
    "Recuerden que para ir revisando sus patrones ReGex pueden ingresar [aquí](https://regex101.com/). "
   ]
  },
  {
   "cell_type": "markdown",
   "metadata": {},
   "source": [
    "### Limpiador de instrucciones (Con RegEx)"
   ]
  },
  {
   "cell_type": "code",
   "execution_count": null,
   "metadata": {},
   "outputs": [],
   "source": [
    "import re\n",
    "def limpiador(txt:str):\n",
    "    \"\"\"\n",
    "    txt: String a limpiar\n",
    "    return: String limpio\n",
    "    Limpia el string de acuerdo a los patrones definidos. Guarda el resultado para poder verlo.\n",
    "    \"\"\"\n",
    "    patterns = ['<Dos Puntos>', '\\$[0-9]+', 'NO_ESPACIO(S)?', '={2}[a-z]+={2}']\n",
    "    txt = re.sub(patterns.pop(0), ':', txt)\n",
    "    for pat in patterns:\n",
    "        txt = re.sub(pat, '', txt)\n",
    "    txt = re.sub(\"'\", '\"', txt)\n",
    "    return txt"
   ]
  },
  {
   "cell_type": "markdown",
   "metadata": {},
   "source": [
    "### Uso de api para obtener las instrucciones"
   ]
  },
  {
   "cell_type": "code",
   "execution_count": null,
   "metadata": {},
   "outputs": [],
   "source": [
    "import json\n",
    "import requests\n",
    "def obtener_instrucciones():\n",
    "    URL = \"https://demo5989374.mockable.io/\"\n",
    "    # Api con el usuario y las frases a reemplazar en sus tweets\n",
    "    my_api = requests.get(URL)\n",
    "    # Desencriptar el json obtenido en la api\n",
    "    json_string = limpiador(my_api.json())\n",
    "    json_dict = json.loads(json_string)\n",
    "    return json_dict"
   ]
  },
  {
   "cell_type": "code",
   "execution_count": null,
   "metadata": {},
   "outputs": [],
   "source": [
    "instrucciones = obtener_instrucciones()\n",
    "print(instrucciones)"
   ]
  },
  {
   "cell_type": "markdown",
   "metadata": {},
   "source": [
    "Como pueden ver, las instrucciones tienen 2 elementos, el nombre de usuario y las frases a reemplazar."
   ]
  },
  {
   "cell_type": "code",
   "execution_count": null,
   "metadata": {},
   "outputs": [],
   "source": [
    "usuario = instrucciones['user']\n",
    "frases = instrucciones['phrases_to_replace']"
   ]
  },
  {
   "cell_type": "markdown",
   "metadata": {},
   "source": [
    "### Parte2: API de Twitter\n",
    "\n",
    "En esta parte deberán obtener los _tweets_ del usuario y luego retweetaerlos con su cuenta que pueden obtener [aquí](https://developer.twitter.com/content/developer-twitter/en.html). \n",
    "\n",
    "OJO: Twitter es bien quisquilloso por lo que es necesario validar la cuenta con las keys (Para esto se usa la librería `requests_oauthlib`)."
   ]
  },
  {
   "cell_type": "code",
   "execution_count": null,
   "metadata": {},
   "outputs": [],
   "source": [
    "from requests_oauthlib import OAuth1\n",
    "# Aqui deben ingresar sus credenciales\n",
    "API_KEY = \"\"\n",
    "API_SECRET = \"\"\n",
    "ACCESS_TOKEN = \"\"\n",
    "ACCESS_TOKEN_SECRET = \"\"\n",
    "auth = OAuth1(API_KEY, API_SECRET, ACCESS_TOKEN, ACCESS_TOKEN_SECRET) # Necesario para twitter"
   ]
  },
  {
   "cell_type": "code",
   "execution_count": null,
   "metadata": {},
   "outputs": [],
   "source": [
    "# Se obtienen los 100 primeros tweets del usuario\n",
    "tweets_request = requests.get(\"https://api.twitter.com/1.1/statuses/user_timeline.json\",\n",
    "                 params={\"screen_name\": usuario, \"count\": \"100\", \"tweet_mode\":\"extended\"}, auth=auth)\n",
    "\n",
    "tweets = (tweet[\"full_text\"] for tweet in tweets_request.json()) # Lista de los tweets del usuario"
   ]
  },
  {
   "cell_type": "code",
   "execution_count": null,
   "metadata": {},
   "outputs": [],
   "source": [
    "for tweet in tweets:\n",
    "    t = [] # Contiene los matches de este tweet\n",
    "    for a_reemplazar, txt_reemplazo in frases.items():\n",
    "        t.extend([re.search(a_reemplazar.lower(), tweet),\n",
    "                  re.search(a_reemplazar.capitalize(), tweet),\n",
    "                  re.search(a_reemplazar, tweet)])\n",
    "\n",
    "        txt_reemplazo = \"\\\"\" + txt_reemplazo + \"\\\"\" # Agregar comilla al reemplazo\n",
    "    \n",
    "\n",
    "        # Reemplazos\n",
    "        new_tweet = re.sub(a_reemplazar.lower(), txt_reemplazo, tweet)\n",
    "        new_tweet = re.sub(a_reemplazar.capitalize(), txt_reemplazo, tweet)\n",
    "        new_tweet = re.sub(a_reemplazar, txt_reemplazo, tweet)\n",
    "        new_tweet = re.sub('@', '', tweet) # Para evitar spamear las menciones\n",
    "\n",
    "    if any(t): # Imprimir los que hicieron algun match\n",
    "        print(\"Match: \", *filter(bool, t))\n",
    "        print(\"Tweet original: \", tweet) # Tweet original\n",
    "        print(\"Tweet modificado: \", new_tweet,) # Tweet modificado\n",
    "        to_tweet = input('>>>>>>>>>>>>>>> Quieres twittearlo? (Y/N) -> ')\n",
    "        if to_tweet == 'Y':\n",
    "            requests.post('https://api.twitter.com/1.1/statuses/update.json?',\n",
    "                         params={\"status\": new_tweet}, auth=auth)"
   ]
  },
  {
   "cell_type": "code",
   "execution_count": null,
   "metadata": {},
   "outputs": [],
   "source": []
  }
 ],
 "metadata": {
  "kernelspec": {
   "display_name": "Python 3",
   "language": "python",
   "name": "python3"
  },
  "language_info": {
   "codemirror_mode": {
    "name": "ipython",
    "version": 3
   },
   "file_extension": ".py",
   "mimetype": "text/x-python",
   "name": "python",
   "nbconvert_exporter": "python",
   "pygments_lexer": "ipython3",
   "version": "3.6.5"
  }
 },
 "nbformat": 4,
 "nbformat_minor": 2
}
