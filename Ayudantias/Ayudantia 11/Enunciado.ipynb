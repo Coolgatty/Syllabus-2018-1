{
 "cells": [
  {
   "cell_type": "markdown",
   "metadata": {},
   "source": [
    "# Ayudantía Archivos y Bytes\n",
    "**Autores: José Pablo Dominguez y Pablo Olea**\n",
    "\n",
    "## Currículum Codificado : Enunciado\n",
    "\n",
    "### Introducción\n",
    "\n",
    "Un buen amigo de los ayudantes de programación avanzada ha perdido su vocación, y se quiere reinventar buscando otro trabajo. Lamentablemente no es muy bueno con los computadores, y en un enredo gigante terminó desordenando completamente los bytes de la única foto que tenía para su curriculum. Ahora necesita de tu ayuda para poder decodificar la imagen y de esta forma ayudarlo a encontrar un lugar en la vida.\n"
   ]
  },
  {
   "cell_type": "markdown",
   "metadata": {},
   "source": [
    "### Parte 1: Los archivos\n",
    "\n",
    "La imagen a codificar se encuentra contenida en el archivo *curriculum.banana*, el cual como puedes ver, está en un formato completamente inutilizable. Los *bytes* de este archivo están dividos en chunks (sets de bytes) de código, y debes obtener los largos de los chunks para poder realizar la decodificación. Estos se encuentran ubicados en las carpetas \"par\" e \"impar\", que se pueden encontrar en el directorio del archivo. Dentro de cada una hay 3 subdirectorios, y los nombres de estos son los tamaños de chunks con los que se va a trabajar. Deberás obtener los tres tamaños para ambos tipos de carpeta, pero sin ingresar a ellas directamente(Tienen información delicada del último trabajo de tu amigo).\n",
    "\n",
    "Debes crear una función generadora (Si, han vuelto), que te retorne el primer valor en orden alfanumérico de la carpeta par, luego el primero de la carpeta impar, luego el segundo de par, etc. Repitiéndose de forma indefinida.\n",
    "\n",
    "### Parte 2: Algoritmo\n",
    "\n",
    "Debes abrir el archivo *curriculum.banana* y decodificarlo de la siguiente manera:\n",
    "\n",
    "- Debes tomar un chunk del tamaño (en bytes) correspondiente al numero de chunk comenzando desde el 0 ( Ej: El primer chunk tiene el tamaño del primer número de la carpeta par, el segundo el primero de la carpeta impar, etc.)\n",
    "- Cada byte debe convertirse en numero binario\n",
    "- Luego de convertirlo, debes invertir sus numeros (0 &rarr; 1, 1 &rarr; 0).\n",
    "- EL binario invertido se vuelve a convertir en decimal.\n",
    "- Por último deberás encontrar su reflejo de 0 a 255, es decir 127 &rarr; 128, 0 &rarr; 255, etc.\n",
    "- Si la suma de los digitos del largo del chunk es mayor a 15, debes dejar *sin procesar* cada centésimo byte, e invertir los últimos 100 bytes (incluyendo éste).\n",
    "- Si la suma de los digitos es menor a 15, cada 50 bytes debes no procesar el 50vo byte e invertir los ultimos 50 bytes (incluyendo este).\n",
    "- **Los ultimos 27 bytes del archivo no deben ser procesados**\n",
    "- Debes unir todos los chunks y luego escribirlos en un único archivo.\n"
   ]
  },
  {
   "cell_type": "code",
   "execution_count": null,
   "metadata": {
    "collapsed": true
   },
   "outputs": [],
   "source": []
  }
 ],
 "metadata": {
  "kernelspec": {
   "display_name": "Python 3",
   "language": "python",
   "name": "python3"
  },
  "language_info": {
   "codemirror_mode": {
    "name": "ipython",
    "version": 3
   },
   "file_extension": ".py",
   "mimetype": "text/x-python",
   "name": "python",
   "nbconvert_exporter": "python",
   "pygments_lexer": "ipython3",
   "version": "3.6.0"
  }
 },
 "nbformat": 4,
 "nbformat_minor": 2
}
