{
 "cells": [
  {
   "cell_type": "code",
   "execution_count": 24,
   "metadata": {
    "collapsed": true
   },
   "outputs": [],
   "source": [
    "import os\n",
    "cwd = os.getcwd() # Lugar de trabajo, se usará como variable global"
   ]
  },
  {
   "cell_type": "code",
   "execution_count": 25,
   "metadata": {
    "collapsed": false
   },
   "outputs": [
    {
     "data": {
      "text/plain": [
       "23"
      ]
     },
     "execution_count": 25,
     "metadata": {},
     "output_type": "execute_result"
    }
   ],
   "source": [
    "import random\n",
    "random.choice(list((23, 21)))"
   ]
  },
  {
   "cell_type": "code",
   "execution_count": 26,
   "metadata": {
    "collapsed": true
   },
   "outputs": [],
   "source": [
    "def generador_chunks():\n",
    "    i = 0 # Numero que indica la siguiente carpeta a usar\n",
    "    dp = 0 # Numero que indica el siguiente nombre de carpeta a usar en la carpeta par \n",
    "    di = 0 # Numero que indica el siguiente nombre de carpeta a usar en la carpeta impar\n",
    "    while True:\n",
    "        # Vemos a que carpeta ir\n",
    "        if i % 2 == 0:\n",
    "            nwd = cwd + os.sep + \"par\"\n",
    "            j = dp # Vemos cual nombre de carpeta en par toca\n",
    "            dp += 1\n",
    "        else:\n",
    "            nwd = cwd + os.sep + \"impar\"\n",
    "            j = di # Vemos cual nombre de carpeta en impar toca\n",
    "            di += 1\n",
    "\n",
    "        for k, file in enumerate(os.listdir(nwd)):\n",
    "            # Se ve si es que la carpeta es la que corresponde\n",
    "            if j == k:\n",
    "                yield int(file) # Se devuelve el nombre de la carpeta en forma numérica\n",
    "                break\n",
    "        \n",
    "        # Esta sección reinicia las carpetas si es que ya se recorrieron las 3 en par o impar\n",
    "        if dp > 2:\n",
    "            dp = 0\n",
    "\n",
    "        if di > 2:\n",
    "            di = 0\n",
    "\n",
    "        i += 1"
   ]
  },
  {
   "cell_type": "code",
   "execution_count": 27,
   "metadata": {
    "collapsed": true
   },
   "outputs": [],
   "source": [
    "# Función que decodifica un byte cualquiera\n",
    "def decodificar_byte(byte):\n",
    "    numero = 255 - byte  # Se refleja el byte\n",
    "    numero = bin(numero) # Se transforma a binario\n",
    "    new = \"\"\n",
    "    for binary in numero[2:].zfill(8):\n",
    "        new += \"1\" if binary == \"0\" else \"0\" # Se cambian cada numero del binario\n",
    "    byte_final = int(new, 2) # Se vuelve a formar a decimal\n",
    "    return byte_final"
   ]
  },
  {
   "cell_type": "code",
   "execution_count": 28,
   "metadata": {
    "collapsed": true
   },
   "outputs": [],
   "source": [
    "def algoritmo_decodificador(chunk):\n",
    "    byte_sub_chunk = 0\n",
    "    j = sum(int(d) for d in str(len(chunk))) # Suma de los dígitos\n",
    "    byte_corte = None\n",
    "    # Vemos si hay un byte de corte\n",
    "    if j > 15:\n",
    "        byte_corte = 100\n",
    "    elif j < 15:\n",
    "        byte_corte = 50\n",
    "    nuevo_chunk = bytearray() # Arreglo del nuevo chunk a decodificar\n",
    "    sub_chunk = bytearray() # Arreglo por sección de chunk si es que hay un corte\n",
    "    for byte in chunk:\n",
    "        # Vemos si se llega al byte de corte\n",
    "        if byte_sub_chunk == byte_corte: \n",
    "            sub_chunk.append(byte) # Se agrega el byte sin procesar\n",
    "            sub_chunk.reverse() # Se invierte el arreglo\n",
    "            nuevo_chunk.extend(sub_chunk) # Se arreglan al arreglo final\n",
    "            \n",
    "            byte_sub_chunk = 0 # Reiniciamos el punto actual para el corte\n",
    "            sub_chunk.clear() # Vaciamos el arreglo de la sección del chunk\n",
    "            continue\n",
    "        sub_chunk.append(decodificar_byte(byte)) # Procesamos el byte y lo agregamos al arreglo de sub_chunk\n",
    "        byte_sub_chunk += 1\n",
    "    nuevo_chunk.extend(sub_chunk) # Agregamos el arreglo que no se invirtió (Notemos que además agrega el arreglo que no requería inversiones con j  == 15)\n",
    "    return nuevo_chunk"
   ]
  },
  {
   "cell_type": "code",
   "execution_count": 29,
   "metadata": {
    "collapsed": false
   },
   "outputs": [],
   "source": [
    "# ------------------ #\n",
    "# PROGRAMA PRINCIPAL #\n",
    "# ------------------ #\n",
    "\n",
    "# Extraemos los bytes de la imagen codificada\n",
    "with open(cwd + os.sep + \"Curriculum.banana\", mode=\"rb\") as imagen:\n",
    "    imagen_codificada = imagen.read()\n",
    "\n",
    "# Aquí guardaremos los bytes decodificados\n",
    "decoded_array = bytearray()\n",
    "f_chunks = generador_chunks()  # Generador de tamaños \n",
    "\n",
    "pre_size = 0 # Punto de partida del chunk\n",
    "max_size = len(imagen_codificada) - 27 # Aquí indicamos que los últimos 27 bytes no se tocan\n",
    "\n",
    "while pre_size < max_size:\n",
    "    size_chunk = next(f_chunks) # obtenemos el tamaño del chunk\n",
    "    chunk = imagen_codificada[pre_size: pre_size + size_chunk] # sacamos el chunk\n",
    "    decoded_array.extend(algoritmo_decodificador(chunk)) # Se agrega el chunk decodificado al arreglo final\n",
    "    pre_size += size_chunk # Movemos el punto de partida del chunk\n",
    "    \n",
    "decoded_array.extend(imagen_codificada[pre_size: len(imagen_codificada)]) # Agregamos los últimos 27 bytes\n",
    "\n",
    "# Guardamos los bytes en un archivo nuevo\n",
    "with open(cwd + os.sep + \"curriculum_vitae.jpg\", mode=\"wb\") as image:\n",
    "    image.write(decoded_array)"
   ]
  }
 ],
 "metadata": {
  "kernelspec": {
   "display_name": "Python 3",
   "language": "python",
   "name": "python3"
  },
  "language_info": {
   "codemirror_mode": {
    "name": "ipython",
    "version": 3
   },
   "file_extension": ".py",
   "mimetype": "text/x-python",
   "name": "python",
   "nbconvert_exporter": "python",
   "pygments_lexer": "ipython3",
   "version": "3.6.0"
  }
 },
 "nbformat": 4,
 "nbformat_minor": 2
}
