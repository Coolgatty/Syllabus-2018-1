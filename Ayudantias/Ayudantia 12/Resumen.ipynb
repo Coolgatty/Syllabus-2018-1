{
 "cells": [
  {
   "cell_type": "markdown",
   "metadata": {},
   "source": [
    "# Ayudantía 12: Serialización\n",
    "\n",
    "**Tomás Rivera y Tien Villalobos**\n",
    "___\n",
    "\n",
    "## Pickle\n",
    "\n",
    "##### Métodos\n",
    "\n",
    "- **dumps**: serializa un objeto en *bytes*\n",
    "- **loads**: deserializa un objeto \n",
    "\n",
    "- **dump**: guarda un archivo con el objeto serializado.\n",
    "- **load**: deserializa un objeto almacenado en un archivo.\n",
    "\n",
    "##### Objetos posibles\n",
    "- La librería pickle permite serializar y deserializar **casi** cualquier objeto en Python. La lista detallada la puedes encontrar [aquí](https://docs.python.org/2/library/pickle.html#what-can-be-pickled-and-unpickled).\n",
    "\n",
    "##### Opciones de serialización\n",
    "\n",
    "- **\\_\\_getstate\\_\\_**: permite la personalización de la **serialización** de un objeto.\n",
    "- **\\_\\_setstate\\_\\_**: permite la personalización de la **deserialización** de un objeto.\n",
    "\n",
    "\n",
    "\n",
    "\n",
    "# json\n",
    "\n",
    "##### Métodos\n",
    "\n",
    "- **dumps**: serializa un objeto en formato JSON\n",
    "- **loads**: deserializa un objeto en formato JSON\n",
    "\n",
    "- **dump**: guarda un archivo con el objeto serializado en formato JSON.\n",
    "- **load**: deserializa un objeto almacenado en un archivo formato JSON.\n",
    "\n",
    "##### Objetos posibles\n",
    "- La librería json sólo nos permite serializar int, str, float, dict, bool, list, tuple y NoneType. \n",
    "- La librería json tiene la siguiente tabla de transformación:\n",
    "\n",
    "\n",
    "![](imgs/tabla_transformacion.png)\n",
    "\n",
    "##### Opciones de serialización\n",
    "\n",
    "- **JSONEncoder**: permite la personalización de la **serialización** de un objeto.\n",
    "- **object\\_hook**: permite la personalización de la **deserialización** de un objeto.\n",
    "\n",
    "\n",
    "\n",
    "\n",
    "___"
   ]
  },
  {
   "cell_type": "markdown",
   "metadata": {},
   "source": [
    "## ¿Cuál es mejor, Pickle o JSON?"
   ]
  },
  {
   "cell_type": "markdown",
   "metadata": {},
   "source": [
    "![](imgs/json_vs_pickle.png)"
   ]
  },
  {
   "cell_type": "code",
   "execution_count": null,
   "metadata": {
    "collapsed": true
   },
   "outputs": [],
   "source": []
  }
 ],
 "metadata": {
  "kernelspec": {
   "display_name": "Python 3",
   "language": "python",
   "name": "python3"
  },
  "language_info": {
   "codemirror_mode": {
    "name": "ipython",
    "version": 3
   },
   "file_extension": ".py",
   "mimetype": "text/x-python",
   "name": "python",
   "nbconvert_exporter": "python",
   "pygments_lexer": "ipython3",
   "version": "3.6.0"
  }
 },
 "nbformat": 4,
 "nbformat_minor": 2
}
