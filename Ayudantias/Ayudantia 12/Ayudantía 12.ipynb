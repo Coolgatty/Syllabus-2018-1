{
 "cells": [
  {
   "cell_type": "markdown",
   "metadata": {},
   "source": [
    "# Ayudantía 12: Serialización\n",
    "#### Tien Villalobos y Tomás Rivera"
   ]
  },
  {
   "cell_type": "markdown",
   "metadata": {},
   "source": [
    "-----\n",
    "## Resumen de la materia [aquí](https://github.com/IIC2233/Syllabus/blob/master/Ayudantias/Ayudantia 12/Resumen.ipynb)"
   ]
  },
  {
   "cell_type": "markdown",
   "metadata": {},
   "source": [
    "## Actividad 13 2017-2 (con algunas modificaciones)\n",
    "Pueden encontrar el enunciado completo de esta actividad [aquí](https://github.com/IIC2233/Syllabus-2017-2/tree/master/Actividades/AC13)."
   ]
  },
  {
   "cell_type": "markdown",
   "metadata": {},
   "source": [
    "## Introducción"
   ]
  },
  {
   "cell_type": "markdown",
   "metadata": {},
   "source": [
    "> Continúan los problemas en el reino DCCsteros. Esta vez, el DCCBank de la localidad fue atacado por\n",
    "unos hackers y es tu deber como ciudadano (y alumno de Programación Avanzada) ayudar a recuperar los\n",
    "datos alterados. En esta actividad, deberás poner a prueba tus conocimientos sobre [...] serialización."
   ]
  },
  {
   "cell_type": "markdown",
   "metadata": {},
   "source": [
    "### Formato de los datos"
   ]
  },
  {
   "cell_type": "code",
   "execution_count": null,
   "metadata": {
    "collapsed": true
   },
   "outputs": [],
   "source": [
    "{ \n",
    "  \"secreto\": int, \n",
    "  \"nombre\": str,\n",
    "  \"carnet\": str, \n",
    "  \"educacion\": str, \n",
    "  \"fecha_fin\": str,\n",
    "  \"rut\": str,\n",
    "  \"saldo\": int,\n",
    "  \"balance\": int,\n",
    "  \"duracion\": int,\n",
    "  \"correo_contacto\": str,\n",
    "  \"tipo_cuenta\": str,\n",
    "  \"\\_id\": int,\n",
    "  \"fecha_inicio\": str,\n",
    "  \"key\": int, \n",
    "  \"numero_cuenta\": int, \n",
    "  \"calidad_cliente\": str, \n",
    "  \"nombre_completo\": str, \n",
    "  \"name\": str, \n",
    "  \"fecha_nacimiento\": str, \n",
    "  \"genero\": str, \n",
    "  \"apellido\": str, \n",
    "  \"cartola\": list, \n",
    "  \"clave\": int, \n",
    "  \"estado_civil\": str, \n",
    "  \"safe\": int, \n",
    "  \"edad\": int\n",
    "}"
   ]
  },
  {
   "cell_type": "markdown",
   "metadata": {},
   "source": [
    "### Requerimientos"
   ]
  },
  {
   "cell_type": "markdown",
   "metadata": {},
   "source": [
    "### Parte 1"
   ]
  },
  {
   "cell_type": "markdown",
   "metadata": {},
   "source": [
    "> [...], notarás que existen muchos\n",
    "atributos para cada uno. Como no todos son útiles, deberás filtrarlos mediante un decoder (implementar object hook), y dejar sólo los que corresponden a la documentación del banco, según el archivo\n",
    "DocumentacionJSON.json."
   ]
  },
  {
   "cell_type": "markdown",
   "metadata": {},
   "source": [
    "El formato del archivo DocumentacionJSON.json es el siguiente:\n",
    ">{ \"Rut\": \"string\",  \n",
    "   \"Nombre\": \"string\",  \n",
    "   \"Apellido\": \"string\",  \n",
    "   \"Fecha de Nacimiento\": \"string\",  \n",
    "   \"Numero de cuenta\": \"integer\",  \n",
    "   \"Tipo de cuenta\": \"string\",  \n",
    "   \"Clave\": \"integer\",  \n",
    "   \"Balance\": \"integer\"                   \n",
    "}"
   ]
  },
  {
   "cell_type": "markdown",
   "metadata": {},
   "source": [
    "Creamos el **object\\_hook**"
   ]
  },
  {
   "cell_type": "code",
   "execution_count": 2,
   "metadata": {
    "collapsed": true
   },
   "outputs": [],
   "source": [
    "def cliente_decoder(dict_completo):\n",
    "    # acá definimos la función auxiliar para el object_hook\n",
    "    return "
   ]
  },
  {
   "cell_type": "markdown",
   "metadata": {},
   "source": [
    "La clase **Cliente**"
   ]
  },
  {
   "cell_type": "code",
   "execution_count": 3,
   "metadata": {
    "collapsed": true
   },
   "outputs": [],
   "source": [
    "class Cliente:\n",
    "\n",
    "    def __init__(self):\n",
    "        pass"
   ]
  },
  {
   "cell_type": "markdown",
   "metadata": {},
   "source": [
    "Instanciamos y guardamos los clientes"
   ]
  },
  {
   "cell_type": "code",
   "execution_count": 4,
   "metadata": {
    "collapsed": false
   },
   "outputs": [],
   "source": [
    "# acá cargamos los archivos json y guardamos los Clientes"
   ]
  },
  {
   "cell_type": "markdown",
   "metadata": {},
   "source": [
    "> El DCCBank también necesita que respaldemos los datos, ahora que los tenemos limpios y ordenados.\n",
    "Por lo tanto, deberás implementar un **JSONEncoder** para generar un archivo para cada cliente de acuer-\n",
    "do al formato y orden especificado en DocumentacionJSON.json y guardarlo en el directorio **bd\\_json**."
   ]
  },
  {
   "cell_type": "markdown",
   "metadata": {},
   "source": [
    "Creamos el encoder"
   ]
  },
  {
   "cell_type": "code",
   "execution_count": 5,
   "metadata": {
    "collapsed": true
   },
   "outputs": [],
   "source": [
    "#acá definimos el JSONEncoder "
   ]
  },
  {
   "cell_type": "markdown",
   "metadata": {},
   "source": [
    "Serializamos los clientes a **json** "
   ]
  },
  {
   "cell_type": "code",
   "execution_count": 6,
   "metadata": {
    "collapsed": false
   },
   "outputs": [],
   "source": [
    "# acá serializamos a los clientes en formato json \n",
    "# y se guardan en la carpeta bd_json"
   ]
  },
  {
   "cell_type": "markdown",
   "metadata": {},
   "source": [
    "### Parte 2"
   ]
  },
  {
   "cell_type": "markdown",
   "metadata": {},
   "source": [
    "> La Reina Barrios les ordena que, para asegurar que no vuelvan a vulnerar el sistema del banco, ahora se\n",
    "debe guardar la información de los clientes de forma segura utilizando pickle y, en especial, hacer uso de\n",
    "los métodos getstate y setstate."
   ]
  },
  {
   "cell_type": "markdown",
   "metadata": {},
   "source": [
    "Redefinimos la clase **Cliente** con `__getstate__` y `__setstate__`"
   ]
  },
  {
   "cell_type": "code",
   "execution_count": 7,
   "metadata": {
    "collapsed": true
   },
   "outputs": [],
   "source": [
    "class Cliente:\n",
    "\n",
    "    def __init__(self):\n",
    "        pass        \n",
    "\n",
    "    def __getstate__(self):\n",
    "        # sobrescribimos el método según lo pedido\n",
    "        pass \n",
    "    \n",
    "    def __setstate__(self, state):\n",
    "        # sobrescribimos el método según lo pedido\n",
    "        pass "
   ]
  },
  {
   "cell_type": "markdown",
   "metadata": {},
   "source": [
    "Reinstanciamos los clientes"
   ]
  },
  {
   "cell_type": "code",
   "execution_count": 8,
   "metadata": {
    "collapsed": true
   },
   "outputs": [],
   "source": [
    "# volvemos a cargar a los clientes"
   ]
  },
  {
   "cell_type": "markdown",
   "metadata": {},
   "source": [
    "Serializamos los clientes con **pickle**"
   ]
  },
  {
   "cell_type": "code",
   "execution_count": 9,
   "metadata": {
    "collapsed": false
   },
   "outputs": [],
   "source": [
    "# acá serializamos a los clientes utilizando pickle \n",
    "# y se guardan en la carpeta bd_segura"
   ]
  },
  {
   "cell_type": "markdown",
   "metadata": {},
   "source": [
    "Deserializamos los clientes con **pickle**"
   ]
  },
  {
   "cell_type": "code",
   "execution_count": 17,
   "metadata": {
    "collapsed": true
   },
   "outputs": [],
   "source": [
    "# acá deserializamos a los clientes "
   ]
  }
 ],
 "metadata": {
  "kernelspec": {
   "display_name": "Python 3",
   "language": "python",
   "name": "python3"
  },
  "language_info": {
   "codemirror_mode": {
    "name": "ipython",
    "version": 3
   },
   "file_extension": ".py",
   "mimetype": "text/x-python",
   "name": "python",
   "nbconvert_exporter": "python",
   "pygments_lexer": "ipython3",
   "version": "3.6.0"
  }
 },
 "nbformat": 4,
 "nbformat_minor": 2
}
