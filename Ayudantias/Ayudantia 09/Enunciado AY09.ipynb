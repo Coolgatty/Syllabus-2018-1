{
 "cells": [
  {
   "cell_type": "markdown",
   "metadata": {},
   "source": [
    "# Ayudantía Threading\n",
    "**Autores: Pablo Olea y Enzo Tamburini**\n",
    "\n",
    "## Restaurante hackeado \n",
    "\n",
    "### Introducción\n",
    "\n",
    "¡Oh no!, empezaron a llegar los comensales al restaurante PrograChef y la receta secreta aún está encriptada (debido a que todos los cocineros son programadores. Los únicos que pueden ayudarnos son los Chef Genios, quienes son muy torpes abriendo el sobre pero muy buenos resolviendo el enigma. \n",
    "\n",
    "Para esto, abran tres equipos quienes estarán conformados por un mozo, un cocinero y un genio. El primero entregará la orden de platos (serán hartos) a hacer previo al gran plato principal, cuya receta está encriptada y que el Chef Genio tendrá que descifrar. Una vez que ambos terminen, el mozo entregará el plato y la simulación terminará. El primer equipo que entregue el plato será el ganador :D \n",
    "\n",
    "\n",
    "### Entidades\n",
    "\n",
    "A los cocineros les llegan órdenes distintas con cantidades de platos que varían entre 60 a 80 platos antes de que puedan hacer el plato principal, que será decodificado por el **Chef Genio**. \n",
    "\n",
    "- **Chef Genio**: Este personaje será el encargado de descifrar la receta que dejaron codificada con clave _por fihar_. El genio tendrá un nombre y lo gritará al terminar su solución. Como el sobre en el que viene el\n",
    "problema está tan bien sellado, el genio tardará entre 5 a 20 _unidades temporales_ en abrirlo, para recién comenzar\n",
    "a resolverlo. Una vez que el genio abre el sobre, puede resolver el problema de forma instantánea (porque es un genio! :D). Al terminar, el genio avisa al **Mozo** que ya está listo.\n",
    "\n",
    "- **Cocinero**: Este personaje se encargará de hacer los otros platos que están en esta y otras órdenes. Los hará a una velocidad de 3 - 8 platos por _unidad temporal_. Al cocinero por un tema de cansancio se le puede caer el plato con probabilidad **0.08** en **cualquier momento**. Cuando esto sucede, el **Cocinero** deberá llamar al **Barrendero** para que limpie la estación de trabajo. Al terminar, el cocinero avisa al **Mozo** que ya está listo.\n",
    "\n",
    "- **Barrendero**: Es el encargado de limpiar la zona de trabajo. Cuando a un cocinero se le caiga un plato, podrá limpiarlo todo en un tiempo de 2 a 5 _unidades temporales_, tiempo en el cual el cocinero deberá esperar a que termine para seguir avanzando. Si a otro chef se le cae el plato, este deberá esperar a que el barrendero se encuentre disponible. Como hay que ir indicando qué sucede en todo momento, por lo que debe indicar el momento en que empieza a limpiar y cuando termina, además decir qué cocinero es el que retoma el trabajo.\n",
    "\n",
    "- **Mozo**: Este personaje esperará el pedido hecho por su equipo conformado por un cocinero y un chef genio. Una vez que **ambos** terminen, el mozo entregará el plato principal a quien lo pidió, lo cual le tomará entre 3 a 5 _unidades temporales_. Cuando termine de entregar el pedido el mozo tendrá que avisar.\n",
    "\n",
    "\n",
    "### El Problema\n",
    "\n",
    "Se nos dijo que quien encriptó la receta secreta era un amante de las claves sencillas y que por lo tanto, probáramos con el código ``Agujeritos``: \n",
    "\n",
    "| A | G | U | J | E | R | I | T | O | S |\n",
    "|---|---|---|---|---|---|---|---|---|---|\n",
    "| 0 | 1 | 2 | 3 | 4 | 5 | 6 | 7 | 8 | 9 |\n",
    "\n",
    "- La clave **agujeritos** consiste en cambiar los números de una palabra por las letras según lo indicado en la tabla. Por ejemplo, la palabra **cuchufli** se transformaría en **c2ch2fl6**.\n",
    "\n",
    "Una vez que el genio encuentre la solución al problema, este **avisará** que lo logró y escribirá la solución a\n",
    "un archivo de texto de nombre ``solucion.txt``.\n",
    "\n",
    "### Archivo\n",
    "\n",
    "Se entrega un único archivo ``Problema.txt`` con la receta que deben desencriptar los genios.\n",
    "\n",
    "### Registro\n",
    "\n",
    "Una vez finalizada la simulación, deberás imprimir las estadísticas, en donde cada grupo debe indicar:\n",
    "\n",
    "- Nombre del cocinero\n",
    "- Cantidad de platos cocinados\n",
    "- Nombrar al chef genio, quien se presentará y dirá si resolvió el problema o no.\n",
    "- Finalmente, indicar el tiempo que se demoró en terminar el **primer** grupo."
   ]
  },
  {
   "cell_type": "code",
   "execution_count": null,
   "metadata": {
    "collapsed": true
   },
   "outputs": [],
   "source": []
  }
 ],
 "metadata": {
  "kernelspec": {
   "display_name": "Python 3",
   "language": "python",
   "name": "python3"
  },
  "language_info": {
   "codemirror_mode": {
    "name": "ipython",
    "version": 3
   },
   "file_extension": ".py",
   "mimetype": "text/x-python",
   "name": "python",
   "nbconvert_exporter": "python",
   "pygments_lexer": "ipython3",
   "version": "3.6.0"
  }
 },
 "nbformat": 4,
 "nbformat_minor": 2
}
