{
 "cells": [
  {
   "cell_type": "markdown",
   "metadata": {},
   "source": [
    "# Ejercicio Clases"
   ]
  },
  {
   "cell_type": "markdown",
   "metadata": {},
   "source": [
    "## Pregunta 3 Examen 2017 - 2"
   ]
  },
  {
   "cell_type": "code",
   "execution_count": 20,
   "metadata": {
    "collapsed": false
   },
   "outputs": [],
   "source": [
    "class A:\n",
    "    @classmethod\n",
    "    def save(cls, file):\n",
    "        print(\"Class A saving {}\".format(file))\n",
    "        super().save(file)\n",
    "\n",
    "class B:\n",
    "    @classmethod\n",
    "    def save(self, file):\n",
    "        print(\"Class B saving {}\".format(file))\n",
    "\n",
    "class C(A, B):\n",
    "    @classmethod\n",
    "    def save(self, file):\n",
    "        print(\"Class C saving {}\".format(file)) \n",
    "        super().save(file)\n",
    "\n",
    "obj_c = C()\n",
    "C.save(\"file\")\n",
    "obj_c.save(\"file\")"
   ]
  },
  {
   "cell_type": "markdown",
   "metadata": {},
   "source": [
    " - Indique paso a paso qué ocurre cuando se ejecuta la línea 19\n",
    " - ¿Cuál es el tipo de objeto del parámetro self del método save de la clase B? ¿Es el mismo que el de la clase A?\n",
    " - ¿Es posible ejecutar la línea 20? Si se pudiese, ¿qué se imprime en consola?"
   ]
  },
  {
   "cell_type": "markdown",
   "metadata": {},
   "source": [
    "# Ejercicio Funcional"
   ]
  },
  {
   "cell_type": "markdown",
   "metadata": {},
   "source": [
    "## Pregunta 3 Examen 2017 - 2"
   ]
  },
  {
   "cell_type": "markdown",
   "metadata": {},
   "source": [
    " - ¿Que imprime este código? Explique paso a paso"
   ]
  },
  {
   "cell_type": "code",
   "execution_count": 45,
   "metadata": {
    "collapsed": false
   },
   "outputs": [],
   "source": [
    "from collections import namedtuple\n",
    "import os\n",
    "import pickle\n",
    "\n",
    "Street = namedtuple(\"Street\", \"district name id\")\n",
    "names = [\"Rue Montmartre\", \"Rue des Moulins\", \n",
    "         \"Pont Neuf\", \"Rue de l'Oculus\",\n",
    "         \"Avenue de l'Opera\", \"Boulevard du Palais\",\n",
    "         \"Place du Palais-Royal\"]  \n",
    "districts = ['1er-arrondissement', '1er-arrondissement', \n",
    "             '1er-arrondissement', '1er-arrondissement']\n",
    "\n",
    "def convert(file_name, obj):\n",
    "    if os.path.exists(file_name):\n",
    "        return False\n",
    "    else:\n",
    "        with open(file_name, \"wb+\") as f:\n",
    "            pickle.dump(obj, f)\n",
    "        return True\n",
    "\n",
    "successful = list(filter(lambda a: convert(\"{}.iic2233\".format(a[1]),\n",
    "                                    Street(*a[0], a[1])),\n",
    "                        ((n, len(n[0])) for n in zip(names, districts))))\n",
    "\n",
    "print(successful)"
   ]
  },
  {
   "cell_type": "markdown",
   "metadata": {},
   "source": [
    "# Ejercicio Decoradores"
   ]
  },
  {
   "cell_type": "markdown",
   "metadata": {},
   "source": [
    "## Pregunta 3 Examen 2017 - 2"
   ]
  },
  {
   "cell_type": "markdown",
   "metadata": {},
   "source": [
    " - ¿Que imprime este código? Explique paso a paso"
   ]
  },
  {
   "cell_type": "code",
   "execution_count": 61,
   "metadata": {
    "collapsed": false
   },
   "outputs": [
    {
     "name": "stdout",
     "output_type": "stream",
     "text": [
      "-7\n",
      "6\n",
      "0\n"
     ]
    }
   ],
   "source": [
    "def dec(x, y):\n",
    "    def _dec(f):\n",
    "        def __dec(*args, **kwargs):\n",
    "            index = None\n",
    "            cond = x < f(*args, **kwargs) < y\n",
    "            if len(kwargs) == 0 and cond:\n",
    "                index = -1\n",
    "            elif cond:\n",
    "                index = 1\n",
    "            else:\n",
    "                index = 0\n",
    "            return f(*args, **kwargs) * index\n",
    "        return __dec\n",
    "    return _dec\n",
    "\n",
    "@dec(-6, 9)\n",
    "def foo(a, b, c):\n",
    "    return a * b + c\n",
    "\n",
    "@dec(-2, 7)\n",
    "def bar(a, b, c=1):\n",
    "    return a * b * c\n",
    "\n",
    "@dec(-1, 2)\n",
    "def qux(a, b, c=1):\n",
    "    return a - b * c\n",
    "\n",
    "print(foo(2, 3, 1))\n",
    "print(bar(2, 3, c=1))\n",
    "print(qux(2, 3, c=1))"
   ]
  },
  {
   "cell_type": "markdown",
   "metadata": {},
   "source": [
    "# Ejercicio Decoradores y RE"
   ]
  },
  {
   "cell_type": "markdown",
   "metadata": {},
   "source": [
    "### Pregunta 3 Examen 2017 - 1"
   ]
  },
  {
   "cell_type": "markdown",
   "metadata": {},
   "source": [
    " - ¿Que imprime este código? Explique paso a paso\n",
    " - Muestre como utilizar los decoradores sin azúcar sintáctico"
   ]
  },
  {
   "cell_type": "code",
   "execution_count": 66,
   "metadata": {
    "collapsed": false,
    "scrolled": true
   },
   "outputs": [
    {
     "name": "stdout",
     "output_type": "stream",
     "text": [
      "['', '<u>', 'Este', '</u>', '', '<u>', 'mensaje', '</u>', '', '<u>', 'incluye', '</u>', '', '<u>', '4', '</u>', '', '<u>', 'espacios', '</u>', '']\n",
      "['', 'Este', '', 'mensaje', '', 'incluye', '', '4', '', 'espacios', '']\n",
      "<u>Este</u><u>mensaje</u><u>incluye</u><u><b>4</b></u><u>espacios</u>\n"
     ]
    }
   ],
   "source": [
    "import re as re\n",
    "\n",
    "\n",
    "def aplicar_a(fn):\n",
    "    def _aplicar_a(msg):\n",
    "        l = re.split('(<[^>]+>)', fn(msg))\n",
    "        l1 = re.split('<[^>]+>', fn(msg))\n",
    "        print(l, l1, sep=\"\\n\")\n",
    "        l = [\n",
    "             '<b>{}</b>'.format(e) \\\n",
    "                    if re.match('[0-9]', e) else e for e in l\n",
    "            ]\n",
    "        return ''.join(l)\n",
    "    return _aplicar_a\n",
    "\n",
    "\n",
    "def aplicar_b(arg):\n",
    "    def _aplicar_b(fn):\n",
    "        def __aplicar_b(msg):\n",
    "            b = [\"<{0}>{1}</{0}>\".format(arg, fn(a)) for a in msg.split()]\n",
    "            return \"\".join(b)\n",
    "        return __aplicar_b\n",
    "    return _aplicar_b\n",
    "\n",
    "\n",
    "@aplicar_a\n",
    "@aplicar_b(\"u\")\n",
    "def mensaje(msg):\n",
    "    return msg\n",
    "\n",
    "print(mensaje(\"Este mensaje incluye 4 espacios\"))"
   ]
  },
  {
   "cell_type": "code",
   "execution_count": 76,
   "metadata": {
    "collapsed": false
   },
   "outputs": [
    {
     "name": "stdout",
     "output_type": "stream",
     "text": [
      "3\n",
      "4\n"
     ]
    }
   ],
   "source": [
    "class Foo:\n",
    "    a= 0\n",
    "    def __init__(self, valor):\n",
    "        self.b = valor \n",
    "        Foo.a += 1\n",
    "        \n",
    "i1= Foo(5)\n",
    "i2 = Foo(3)\n",
    "Foo.a += 1\n",
    "i2.a += 1\n",
    "\n",
    "\n",
    "print(i1.a)\n",
    "print(i2.a)\n"
   ]
  },
  {
   "cell_type": "markdown",
   "metadata": {},
   "source": [
    "# Ejercicio Metaclases"
   ]
  },
  {
   "cell_type": "markdown",
   "metadata": {},
   "source": [
    "### Pregunta 3 Examen 2017 - 1"
   ]
  },
  {
   "cell_type": "markdown",
   "metadata": {},
   "source": [
    " - De acuerdo al código, ¿qué ocurrirá al ejecutar el __init__ de un clase que tiene como metaclase a MetaObject? Explique línea por línea.\n",
    " - De acuerdo al código de la pregunta anterior, ¿qué ocurrirá al crear un objeto de una clase que tiene como metaclase a MetaObject?"
   ]
  },
  {
   "cell_type": "code",
   "execution_count": 87,
   "metadata": {
    "collapsed": true
   },
   "outputs": [],
   "source": [
    "import random\n",
    "\n",
    "class MetaObject(type):\n",
    "    \n",
    "    def __new__(meta, name, bases, attrs):\n",
    "        o_ = attrs['__init__']\n",
    "\n",
    "        def n_(self, *args, **kwargs):\n",
    "            self.id_ = random.randint(25, 65)\n",
    "            o_(self,args, kwargs)\n",
    "            \n",
    "        attrs['__init__'] = n_\n",
    "        attrs['instances'] = {}\n",
    "        print(\"Entre 1\")\n",
    "        return super().__new__(meta, name, bases, attrs)\n",
    "    \n",
    "    def __init__(*args, **kwargs):\n",
    "        print(\"Entre\")\n",
    "\n",
    "    def __call__(cls, *args, **kwargs):\n",
    "        if args in cls.instances:\n",
    "            return None\n",
    "        else:\n",
    "            obj = super().__call__(*args, **kwargs)\n",
    "            cls.instances[args] = obj\n",
    "            return obj"
   ]
  },
  {
   "cell_type": "code",
   "execution_count": 88,
   "metadata": {
    "collapsed": false
   },
   "outputs": [
    {
     "name": "stdout",
     "output_type": "stream",
     "text": [
      "Entre 1\n",
      "Entre\n"
     ]
    }
   ],
   "source": [
    "class A(metaclass=MetaObject):\n",
    "    def __init__(self):\n",
    "        pass"
   ]
  },
  {
   "cell_type": "code",
   "execution_count": 83,
   "metadata": {
    "collapsed": false
   },
   "outputs": [
    {
     "name": "stdout",
     "output_type": "stream",
     "text": [
      "Entrando al while\n",
      "0\n",
      "1\n",
      "2\n",
      "4\n"
     ]
    }
   ],
   "source": [
    "def func_generadora():\n",
    "    n = 0\n",
    "    yield \"Entrando al while\"\n",
    "    while n < 5:\n",
    "        yield n\n",
    "        n += 1\n",
    "        if n == 3:\n",
    "            return 4\n",
    "\n",
    "a = func_generadora()\n",
    "try:\n",
    "    print(next(a))\n",
    "    print(next(a))\n",
    "    print(next(a))\n",
    "    print(next(a))\n",
    "    print(next(a))\n",
    "except Exception as e:\n",
    "    print(e)"
   ]
  },
  {
   "cell_type": "code",
   "execution_count": 41,
   "metadata": {
    "collapsed": false
   },
   "outputs": [],
   "source": [
    "class Examen:\n",
    "    \n",
    "    def __new__(cls, *args, **kwargs):\n",
    "        cls.students_dict = {}\n",
    "        cls.id_ = cls.generate_user_id()\n",
    "        return super().__new__(cls)\n",
    "    \n",
    "    def __init__(self, name):\n",
    "        self.name = name\n",
    "    \n",
    "    def __call__(self, *args, **kwargs):\n",
    "        return [Examen.students_dict[ar] for ar in args]\n",
    "    \n",
    "    @staticmethod\n",
    "    def generate_user_id():\n",
    "        count = 0\n",
    "        while True:\n",
    "            yield count\n",
    "            count += 1\n",
    "    \n",
    "    def add_user(self, name):\n",
    "        Examen.students_dict[name] = next(Examen.id_)"
   ]
  },
  {
   "cell_type": "code",
   "execution_count": 43,
   "metadata": {
    "collapsed": false
   },
   "outputs": [],
   "source": [
    "e = Examen(\"Progra\")\n",
    "e.add_user(\"E1\")\n",
    "e.add_user(\"E2\")\n",
    "e.add_user(\"E3\")\n",
    "print(e.students_dict)\n",
    "print(e(\"E1\", \"E2\", \"E3\"))"
   ]
  },
  {
   "cell_type": "markdown",
   "metadata": {},
   "source": [
    "# Ejercicio Threading"
   ]
  },
  {
   "cell_type": "markdown",
   "metadata": {},
   "source": [
    " - ¿Que imprime este código? Explique paso a paso"
   ]
  },
  {
   "cell_type": "code",
   "execution_count": 52,
   "metadata": {
    "collapsed": false
   },
   "outputs": [
    {
     "name": "stdout",
     "output_type": "stream",
     "text": [
      "Primera parte - f2\n",
      "Segunda parte - f2Primera parte - f1\n",
      "\n",
      "Segunda parte - f1\n"
     ]
    }
   ],
   "source": [
    "import threading\n",
    "import time\n",
    "\n",
    "\n",
    "def f1(lock1, lock2):\n",
    "    with lock1:\n",
    "         print('Primera parte - f1')\n",
    "         time.sleep(5)\n",
    "    with lock2:\n",
    "         print('Segunda parte - f1')\n",
    "         time.sleep(1)\n",
    "\n",
    "def f2(lock1, lock2):\n",
    "    with lock2:\n",
    "         print('Primera parte - f2')\n",
    "         time.sleep(5)\n",
    "    with lock1:\n",
    "         print('Segunda parte - f2')\n",
    "         time.sleep(1)\n",
    "\n",
    "a_lock = threading.Lock()\n",
    "b_lock = threading.Lock()\n",
    "\n",
    "t1 = threading.Thread(target=f1, args=(a_lock, b_lock))\n",
    "t2 = threading.Thread(target=f2, args=(b_lock, a_lock))\n",
    "t2.start()\n",
    "t1.start()"
   ]
  },
  {
   "cell_type": "markdown",
   "metadata": {},
   "source": [
    " - ¿Que imprime este código? Explique paso a paso"
   ]
  },
  {
   "cell_type": "code",
   "execution_count": 60,
   "metadata": {
    "collapsed": false
   },
   "outputs": [
    {
     "name": "stdout",
     "output_type": "stream",
     "text": [
      "Chile\n",
      "Argentina\n"
     ]
    }
   ],
   "source": [
    "import threading\n",
    "import time\n",
    "\n",
    "def f1(lock1, lock2):\n",
    "    with lock1:\n",
    "        print(\"Argentina\")\n",
    "        time.sleep(10)\n",
    "        with lock2:\n",
    "            print(\"Bolivia\")\n",
    "            time.sleep(5)\n",
    "\n",
    "def f2(lock1, lock2):\n",
    "    with lock2:\n",
    "        print(\"Chile\")\n",
    "        time.sleep(10)\n",
    "        with lock1:\n",
    "            print(\"Dinamarca\")\n",
    "            time.sleep(5)\n",
    "\n",
    "a_lock = threading.Lock()\n",
    "b_lock = threading.Lock()\n",
    "\n",
    "t1 = threading.Thread(target=f1, args=(a_lock, b_lock))\n",
    "t2 = threading.Thread(target=f2, args=(a_lock, b_lock))\n",
    "t2.start()\n",
    "t1.start()"
   ]
  },
  {
   "cell_type": "code",
   "execution_count": 96,
   "metadata": {
    "collapsed": false
   },
   "outputs": [
    {
     "name": "stdout",
     "output_type": "stream",
     "text": [
      "A saving file\n",
      "B saving file\n"
     ]
    }
   ],
   "source": [
    "class A:\n",
    "    def save(self, file):\n",
    "        print(\"A saving {}\".format(file))\n",
    "\n",
    "class B:\n",
    "    def save(self, file):\n",
    "        print(\"B saving {}\".format(file))\n",
    "\n",
    "class C(A, B):\n",
    "    save = lambda self, file: super().save(file)\n",
    "    pass\n",
    "\n",
    "class D(B, A):\n",
    "    pass\n",
    "\n",
    "obj_c = C()\n",
    "obj_d = D()\n",
    "obj_c.save(\"file\")\n",
    "obj_d.save(\"file\")"
   ]
  },
  {
   "cell_type": "code",
   "execution_count": null,
   "metadata": {
    "collapsed": true
   },
   "outputs": [],
   "source": []
  }
 ],
 "metadata": {
  "kernelspec": {
   "display_name": "Python 3",
   "language": "python",
   "name": "python3"
  },
  "language_info": {
   "codemirror_mode": {
    "name": "ipython",
    "version": 3
   },
   "file_extension": ".py",
   "mimetype": "text/x-python",
   "name": "python",
   "nbconvert_exporter": "python",
   "pygments_lexer": "ipython3",
   "version": "3.6.0"
  }
 },
 "nbformat": 4,
 "nbformat_minor": 2
}
