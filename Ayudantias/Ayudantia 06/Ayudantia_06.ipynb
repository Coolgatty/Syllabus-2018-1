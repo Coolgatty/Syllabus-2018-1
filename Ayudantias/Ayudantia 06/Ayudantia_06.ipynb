{
 "cells": [
  {
   "cell_type": "markdown",
   "metadata": {},
   "source": [
    "# Ayudantia 06: Decoradores"
   ]
  },
  {
   "cell_type": "markdown",
   "metadata": {},
   "source": [
    "#### Franco Bruña y Benjamin Earle"
   ]
  },
  {
   "cell_type": "markdown",
   "metadata": {},
   "source": [
    "## Recordatorio: Estructura de Decoradores"
   ]
  },
  {
   "cell_type": "markdown",
   "metadata": {},
   "source": [
    "Decorador sin argumentos:"
   ]
  },
  {
   "cell_type": "code",
   "execution_count": 6,
   "metadata": {},
   "outputs": [
    {
     "name": "stdout",
     "output_type": "stream",
     "text": [
      "[5, 0] -> 5\n",
      "[5, 0, 1] -> 6\n",
      "[5, 0, 1, 2] -> 8\n",
      "[5, 0, 1, 2, 3] -> 11\n",
      "[5, 0, 1, 2, 3, 4] -> 15\n",
      "[5, 0, 1, 2, 3, 4, 5] -> 20\n",
      "[5, 0, 1, 2, 3, 4, 5, 6] -> 26\n",
      "[5, 0, 1, 2, 3, 4, 5, 6, 7] -> 33\n",
      "[5, 0, 1, 2, 3, 4, 5, 6, 7, 8] -> 41\n",
      "[5, 0, 1, 2, 3, 4, 5, 6, 7, 8, 9] -> 50\n"
     ]
    }
   ],
   "source": [
    "def decorador_sin_argumentos(funcion_a_decorar):\n",
    "    def decorada(*args, **kwargs):\n",
    "        # Hacemos lo que queramos con los argumentos o la funcion\n",
    "        # Por ejemplo:\n",
    "        argumentos = list(args)\n",
    "        for i in range(10):\n",
    "            argumentos.append(i)\n",
    "            print(\"{} -> {}\".format(argumentos, funcion_a_decorar(*argumentos, **kwargs)))\n",
    "    return decorada  # Ojo que se retorna la funcion (no ejecutada, sino que su funcionalidad!) sin los parentesis.\n",
    "\n",
    "@decorador_sin_argumentos\n",
    "def sumador(*args):\n",
    "    return sum(args)\n",
    "\n",
    "sumador(5)"
   ]
  },
  {
   "cell_type": "code",
   "execution_count": 7,
   "metadata": {},
   "outputs": [
    {
     "name": "stdout",
     "output_type": "stream",
     "text": [
      "[5, 0] -> 5\n",
      "[5, 0, 1] -> 6\n",
      "[5, 0, 1, 2] -> 8\n",
      "[5, 0, 1, 2, 3] -> 11\n",
      "[5, 0, 1, 2, 3, 4] -> 15\n",
      "[5, 0, 1, 2, 3, 4, 5] -> 20\n",
      "[5, 0, 1, 2, 3, 4, 5, 6] -> 26\n",
      "[5, 0, 1, 2, 3, 4, 5, 6, 7] -> 33\n",
      "[5, 0, 1, 2, 3, 4, 5, 6, 7, 8] -> 41\n",
      "[5, 0, 1, 2, 3, 4, 5, 6, 7, 8, 9] -> 50\n",
      "[5, 0, 1, 2, 3, 4, 5, 6, 7, 8, 9, 10] -> 60\n",
      "[5, 0, 1, 2, 3, 4, 5, 6, 7, 8, 9, 10, 11] -> 71\n",
      "[5, 0, 1, 2, 3, 4, 5, 6, 7, 8, 9, 10, 11, 12] -> 83\n",
      "[5, 0, 1, 2, 3, 4, 5, 6, 7, 8, 9, 10, 11, 12, 13] -> 96\n",
      "[5, 0, 1, 2, 3, 4, 5, 6, 7, 8, 9, 10, 11, 12, 13, 14] -> 110\n"
     ]
    }
   ],
   "source": [
    "def decorador_con_argumentos(limite_de_suma):\n",
    "    def decorador_sin_argumentos(funcion_a_decorar):\n",
    "        def decorada(*args, **kwargs):\n",
    "            # Hacemos lo que queramos con los argumentos o la funcion\n",
    "            # Por ejemplo:\n",
    "            argumentos = list(args)\n",
    "            for i in range(limite_de_suma):\n",
    "                argumentos.append(i)\n",
    "                print(\"{} -> {}\".format(argumentos, funcion_a_decorar(*argumentos, **kwargs)))\n",
    "        return decorada  # Ojo que se retorna la funcion (no ejecutada, sino que su funcionalidad) sin los parentesis.\n",
    "    return decorador_sin_argumentos\n",
    "\n",
    "@decorador_con_argumentos(15)\n",
    "def sumador(*args):\n",
    "    return sum(args)\n",
    "\n",
    "sumador(5)"
   ]
  },
  {
   "cell_type": "markdown",
   "metadata": {},
   "source": [
    "## Actividad 07 2017-2 [enunciado](https://github.com/IIC2233/Syllabus-2017-2/blob/master/Actividades/AC07/AC07.pdf)"
   ]
  },
  {
   "cell_type": "code",
   "execution_count": 1,
   "metadata": {},
   "outputs": [],
   "source": [
    "def verify_types(input_type, output_type):\n",
    "    \"\"\"\n",
    "    Verifica que el primer argumento de una funcion sea del tipo input type y que\n",
    "    el valor de retorno sea del tipo output type. En caso contrario, lanzar una\n",
    "    excepcion de la clase TypeError.\n",
    "    \"\"\"\n",
    "    pass\n",
    "\n",
    "\n",
    "def to_lowercase(f):\n",
    "    \"\"\"\n",
    "    Si el primer argumento de la funcion es un string, lo convierte a minusculas.\n",
    "    Si el primer argumento es una lista, debe convertir a minusculas todos los strings que esta contenga.\n",
    "    \"\"\"\n",
    "    pass\n",
    "\n",
    "\n",
    "def check_file(f):\n",
    "    \"\"\"\n",
    "    Revisa que el primer argumento de la funcion corresponda al path de un archivo existente.\n",
    "    Si archivo no existe, la funcion debe retornar None.\n",
    "    \"\"\"\n",
    "    pass\n",
    "\n",
    "\n",
    "def remove_special_characters(f):\n",
    "    \"\"\"\n",
    "    Si el primer argumento de la funci\u0013on decorada es un string, debe eliminar\n",
    "    de el todos los caracteres que no sean alfanumericos ni espacios. Si el primer argumento es una lista,\n",
    "    debe hacer esto en todos los strings que contenga la lista.\n",
    "    \"\"\"\n",
    "    pass\n",
    "\n",
    "def get_stats(f):\n",
    "    \"\"\"\n",
    "    Imprime el numero de caracteres antes y despu\u0013es de aplicar la funcion decorada. Debes\n",
    "    asumir que el primer argumento de la funci\u0013on ser\u0013a el texto original y el retorno de la funcion sera el\n",
    "    texto modificado, ambos pueden ser o una string o una lista de strings. En caso de que sea una lista\n",
    "    de strings, el n\u0013umero de caracteres será la suma de los caracteres de todos los strings\n",
    "    \"\"\"\n",
    "    pass"
   ]
  },
  {
   "cell_type": "markdown",
   "metadata": {},
   "source": [
    "## Tip: Wraps"
   ]
  }
 ],
 "metadata": {
  "kernelspec": {
   "display_name": "Python 3",
   "language": "python",
   "name": "python3"
  },
  "language_info": {
   "codemirror_mode": {
    "name": "ipython",
    "version": 3
   },
   "file_extension": ".py",
   "mimetype": "text/x-python",
   "name": "python",
   "nbconvert_exporter": "python",
   "pygments_lexer": "ipython3",
   "version": "3.6.5"
  }
 },
 "nbformat": 4,
 "nbformat_minor": 2
}
