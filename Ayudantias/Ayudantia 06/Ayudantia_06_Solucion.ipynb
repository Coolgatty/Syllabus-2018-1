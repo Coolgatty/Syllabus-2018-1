{
 "cells": [
  {
   "cell_type": "markdown",
   "metadata": {},
   "source": [
    "# Ayudantía 06: Decoradores"
   ]
  },
  {
   "cell_type": "markdown",
   "metadata": {},
   "source": [
    "#### Franco Bruña y Benjamín Earle"
   ]
  },
  {
   "cell_type": "markdown",
   "metadata": {},
   "source": [
    "### Recordatorio: Estructura de Decoradores"
   ]
  },
  {
   "cell_type": "markdown",
   "metadata": {},
   "source": [
    "Decorador sin argumentos:"
   ]
  },
  {
   "cell_type": "code",
   "execution_count": 1,
   "metadata": {},
   "outputs": [
    {
     "name": "stdout",
     "output_type": "stream",
     "text": [
      "[5, 0] -> 5\n",
      "[5, 0, 1] -> 6\n",
      "[5, 0, 1, 2] -> 8\n",
      "[5, 0, 1, 2, 3] -> 11\n",
      "[5, 0, 1, 2, 3, 4] -> 15\n",
      "[5, 0, 1, 2, 3, 4, 5] -> 20\n",
      "[5, 0, 1, 2, 3, 4, 5, 6] -> 26\n",
      "[5, 0, 1, 2, 3, 4, 5, 6, 7] -> 33\n",
      "[5, 0, 1, 2, 3, 4, 5, 6, 7, 8] -> 41\n",
      "[5, 0, 1, 2, 3, 4, 5, 6, 7, 8, 9] -> 50\n"
     ]
    }
   ],
   "source": [
    "def decorador_sin_argumentos(funcion_a_decorar):\n",
    "    def decorada(*args, **kwargs):\n",
    "        # Hacemos lo que queramos con los argumentos o la función\n",
    "        # Por ejemplo:\n",
    "        argumentos = list(args)\n",
    "        for i in range(10):\n",
    "            argumentos.append(i)\n",
    "            print(\"{} -> {}\".format(argumentos, funcion_a_decorar(*argumentos, **kwargs)))\n",
    "    return decorada  # Ojo que se retorna la función (no ejecutada, sino que su funcionalidad!) sin los paréntesis.\n",
    "\n",
    "@decorador_sin_argumentos\n",
    "def sumador(*args):\n",
    "    return sum(args)\n",
    "\n",
    "sumador(5)"
   ]
  },
  {
   "cell_type": "code",
   "execution_count": 2,
   "metadata": {},
   "outputs": [
    {
     "name": "stdout",
     "output_type": "stream",
     "text": [
      "[5, 0] -> 5\n",
      "[5, 0, 1] -> 6\n",
      "[5, 0, 1, 2] -> 8\n",
      "[5, 0, 1, 2, 3] -> 11\n",
      "[5, 0, 1, 2, 3, 4] -> 15\n",
      "[5, 0, 1, 2, 3, 4, 5] -> 20\n",
      "[5, 0, 1, 2, 3, 4, 5, 6] -> 26\n",
      "[5, 0, 1, 2, 3, 4, 5, 6, 7] -> 33\n",
      "[5, 0, 1, 2, 3, 4, 5, 6, 7, 8] -> 41\n",
      "[5, 0, 1, 2, 3, 4, 5, 6, 7, 8, 9] -> 50\n",
      "[5, 0, 1, 2, 3, 4, 5, 6, 7, 8, 9, 10] -> 60\n",
      "[5, 0, 1, 2, 3, 4, 5, 6, 7, 8, 9, 10, 11] -> 71\n",
      "[5, 0, 1, 2, 3, 4, 5, 6, 7, 8, 9, 10, 11, 12] -> 83\n",
      "[5, 0, 1, 2, 3, 4, 5, 6, 7, 8, 9, 10, 11, 12, 13] -> 96\n",
      "[5, 0, 1, 2, 3, 4, 5, 6, 7, 8, 9, 10, 11, 12, 13, 14] -> 110\n"
     ]
    }
   ],
   "source": [
    "def decorador_con_argumentos(limite_de_suma):\n",
    "    def decorador_sin_argumentos(funcion_a_decorar):\n",
    "        def decorada(*args, **kwargs):\n",
    "            # Hacemos lo que queramos con los argumentos o la función\n",
    "            # Por ejemplo:\n",
    "            argumentos = list(args)\n",
    "            for i in range(limite_de_suma):\n",
    "                argumentos.append(i)\n",
    "                print(\"{} -> {}\".format(argumentos, funcion_a_decorar(*argumentos, **kwargs)))\n",
    "        return decorada  # Ojo que se retorna la función (no ejecutada, sino que su funcionalidad) sin los paréntesis.\n",
    "    return decorador_sin_argumentos\n",
    "\n",
    "@decorador_con_argumentos(15)\n",
    "def sumador(*args):\n",
    "    return sum(args)\n",
    "\n",
    "sumador(5)"
   ]
  },
  {
   "cell_type": "markdown",
   "metadata": {},
   "source": [
    "## Actividad 07 2017-2 [enunciado](https://github.com/IIC2233/Syllabus-2017-2/blob/master/Actividades/AC07/AC07.pdf)"
   ]
  },
  {
   "cell_type": "markdown",
   "metadata": {},
   "source": [
    "#### Verificar tipos del primer argumento y output"
   ]
  },
  {
   "cell_type": "code",
   "execution_count": 3,
   "metadata": {},
   "outputs": [],
   "source": [
    "def verify_types(input_type, output_type):\n",
    "    \"\"\"\n",
    "    Verifica que el primer argumento de una función sea del tipo input type y que\n",
    "    el valor de retorno sea del tipo output type. En caso contrario, lanzar una\n",
    "    excepción de clase TypeError.\n",
    "    \"\"\"\n",
    "    def verificar_tipos(f):\n",
    "        def _verificar_tipos(*args, **kwargs):\n",
    "            if args and not isinstance(args[0], input_type): # Verificamos que reciba al menos un argumento\n",
    "                raise TypeError(\"El primer argumento no es de tipo {}\".format(input_type))\n",
    "            retorno = f(*args, **kwargs)\n",
    "            if not isinstance(retorno, output_type):\n",
    "                raise TypeError(\"El retorno de la función no es del tipo {}\".format(output_type))\n",
    "            return retorno\n",
    "        return _verificar_tipos\n",
    "    return verificar_tipos"
   ]
  },
  {
   "cell_type": "code",
   "execution_count": 1,
   "metadata": {},
   "outputs": [
    {
     "data": {
      "text/plain": [
       "'Hola!'"
      ]
     },
     "execution_count": 1,
     "metadata": {},
     "output_type": "execute_result"
    }
   ],
   "source": [
    "def saludar(mensaje):\n",
    "    return mensaje\n",
    "\n",
    "saludar(\"Hola!\")"
   ]
  },
  {
   "cell_type": "code",
   "execution_count": 6,
   "metadata": {},
   "outputs": [
    {
     "name": "stdout",
     "output_type": "stream",
     "text": [
      "None\n"
     ]
    }
   ],
   "source": [
    "verificador = verify_types(str, str)\n",
    "\n",
    "@verificador\n",
    "def saludar(mensaje):\n",
    "    return mensaje\n",
    "\n",
    "print(saludar(\"Hola!\"))"
   ]
  },
  {
   "cell_type": "code",
   "execution_count": 6,
   "metadata": {
    "scrolled": true
   },
   "outputs": [
    {
     "ename": "TypeError",
     "evalue": "El retorno de la función no es del tipo <class 'int'>",
     "output_type": "error",
     "traceback": [
      "\u001b[0;31m---------------------------------------------------------------------------\u001b[0m",
      "\u001b[0;31mTypeError\u001b[0m                                 Traceback (most recent call last)",
      "\u001b[0;32m<ipython-input-6-d12bf86ddf2c>\u001b[0m in \u001b[0;36m<module>\u001b[0;34m()\u001b[0m\n\u001b[1;32m      4\u001b[0m     \u001b[0;32mreturn\u001b[0m \u001b[0mmensaje\u001b[0m\u001b[0;34m\u001b[0m\u001b[0m\n\u001b[1;32m      5\u001b[0m \u001b[0;34m\u001b[0m\u001b[0m\n\u001b[0;32m----> 6\u001b[0;31m \u001b[0msaludar\u001b[0m\u001b[0;34m(\u001b[0m\u001b[0;34m\"Hola!\"\u001b[0m\u001b[0;34m)\u001b[0m\u001b[0;34m\u001b[0m\u001b[0m\n\u001b[0m",
      "\u001b[0;32m<ipython-input-3-8ddf1e5301d7>\u001b[0m in \u001b[0;36m_verificar_tipos\u001b[0;34m(*args, **kwargs)\u001b[0m\n\u001b[1;32m     11\u001b[0m             \u001b[0mretorno\u001b[0m \u001b[0;34m=\u001b[0m \u001b[0mf\u001b[0m\u001b[0;34m(\u001b[0m\u001b[0;34m*\u001b[0m\u001b[0margs\u001b[0m\u001b[0;34m,\u001b[0m \u001b[0;34m**\u001b[0m\u001b[0mkwargs\u001b[0m\u001b[0;34m)\u001b[0m\u001b[0;34m\u001b[0m\u001b[0m\n\u001b[1;32m     12\u001b[0m             \u001b[0;32mif\u001b[0m \u001b[0;32mnot\u001b[0m \u001b[0misinstance\u001b[0m\u001b[0;34m(\u001b[0m\u001b[0mretorno\u001b[0m\u001b[0;34m,\u001b[0m \u001b[0moutput_type\u001b[0m\u001b[0;34m)\u001b[0m\u001b[0;34m:\u001b[0m\u001b[0;34m\u001b[0m\u001b[0m\n\u001b[0;32m---> 13\u001b[0;31m                 \u001b[0;32mraise\u001b[0m \u001b[0mTypeError\u001b[0m\u001b[0;34m(\u001b[0m\u001b[0;34m\"El retorno de la función no es del tipo {}\"\u001b[0m\u001b[0;34m.\u001b[0m\u001b[0mformat\u001b[0m\u001b[0;34m(\u001b[0m\u001b[0moutput_type\u001b[0m\u001b[0;34m)\u001b[0m\u001b[0;34m)\u001b[0m\u001b[0;34m\u001b[0m\u001b[0m\n\u001b[0m\u001b[1;32m     14\u001b[0m         \u001b[0;32mreturn\u001b[0m \u001b[0m_verificar_tipos\u001b[0m\u001b[0;34m\u001b[0m\u001b[0m\n\u001b[1;32m     15\u001b[0m     \u001b[0;32mreturn\u001b[0m \u001b[0mverificar_tipos\u001b[0m\u001b[0;34m\u001b[0m\u001b[0m\n",
      "\u001b[0;31mTypeError\u001b[0m: El retorno de la función no es del tipo <class 'int'>"
     ]
    }
   ],
   "source": [
    "# Tambien se puede hacer asi:\n",
    "@verify_types(str, int)\n",
    "def saludar(mensaje):\n",
    "    return mensaje\n",
    "\n",
    "saludar(\"Hola!\")"
   ]
  },
  {
   "cell_type": "markdown",
   "metadata": {},
   "source": [
    "#### Validar el archivo"
   ]
  },
  {
   "cell_type": "code",
   "execution_count": 10,
   "metadata": {
    "collapsed": true
   },
   "outputs": [],
   "source": [
    "from os.path import isfile\n",
    "\n",
    "def check_file(f):\n",
    "    \"\"\"\n",
    "    Revisa que el primer argumento de la función corresponda al path de un archivo existente.\n",
    "    Si archivo no existe, la función debe retornar None.\n",
    "    \"\"\"\n",
    "    def archivo_existe(*args, **kwargs):\n",
    "        if isfile(args[0]):\n",
    "            return f(*args, **kwargs)\n",
    "        return None\n",
    "    return archivo_existe"
   ]
  },
  {
   "cell_type": "code",
   "execution_count": 11,
   "metadata": {
    "collapsed": true
   },
   "outputs": [],
   "source": [
    "def leer_string(path):\n",
    "    with open(path, 'r') as archivo:\n",
    "        return archivo.readlines().join('')"
   ]
  },
  {
   "cell_type": "code",
   "execution_count": 12,
   "metadata": {
    "scrolled": true
   },
   "outputs": [
    {
     "ename": "FileNotFoundError",
     "evalue": "[Errno 2] No such file or directory: 'string_mutante.nlp'",
     "output_type": "error",
     "traceback": [
      "\u001b[0;31m---------------------------------------------------------------------------\u001b[0m",
      "\u001b[0;31mFileNotFoundError\u001b[0m                         Traceback (most recent call last)",
      "\u001b[0;32m<ipython-input-12-1f4a47da1a36>\u001b[0m in \u001b[0;36m<module>\u001b[0;34m()\u001b[0m\n\u001b[0;32m----> 1\u001b[0;31m \u001b[0mstring\u001b[0m \u001b[0;34m=\u001b[0m \u001b[0mleer_string\u001b[0m\u001b[0;34m(\u001b[0m\u001b[0;34m'string_mutante.nlp'\u001b[0m\u001b[0;34m)\u001b[0m\u001b[0;34m\u001b[0m\u001b[0m\n\u001b[0m",
      "\u001b[0;32m<ipython-input-11-6e288eed4fca>\u001b[0m in \u001b[0;36mleer_string\u001b[0;34m(path)\u001b[0m\n\u001b[1;32m      1\u001b[0m \u001b[0;32mdef\u001b[0m \u001b[0mleer_string\u001b[0m\u001b[0;34m(\u001b[0m\u001b[0mpath\u001b[0m\u001b[0;34m)\u001b[0m\u001b[0;34m:\u001b[0m\u001b[0;34m\u001b[0m\u001b[0m\n\u001b[0;32m----> 2\u001b[0;31m     \u001b[0;32mwith\u001b[0m \u001b[0mopen\u001b[0m\u001b[0;34m(\u001b[0m\u001b[0mpath\u001b[0m\u001b[0;34m,\u001b[0m \u001b[0;34m'r'\u001b[0m\u001b[0;34m)\u001b[0m \u001b[0;32mas\u001b[0m \u001b[0marchivo\u001b[0m\u001b[0;34m:\u001b[0m\u001b[0;34m\u001b[0m\u001b[0m\n\u001b[0m\u001b[1;32m      3\u001b[0m         \u001b[0;32mreturn\u001b[0m \u001b[0marchivo\u001b[0m\u001b[0;34m.\u001b[0m\u001b[0mreadlines\u001b[0m\u001b[0;34m(\u001b[0m\u001b[0;34m)\u001b[0m\u001b[0;34m.\u001b[0m\u001b[0mjoin\u001b[0m\u001b[0;34m(\u001b[0m\u001b[0;34m''\u001b[0m\u001b[0;34m)\u001b[0m\u001b[0;34m\u001b[0m\u001b[0m\n",
      "\u001b[0;31mFileNotFoundError\u001b[0m: [Errno 2] No such file or directory: 'string_mutante.nlp'"
     ]
    }
   ],
   "source": [
    "string = leer_string('string_mutante.nlp')"
   ]
  },
  {
   "cell_type": "code",
   "execution_count": 13,
   "metadata": {
    "collapsed": true
   },
   "outputs": [],
   "source": [
    "@check_file\n",
    "def leer_string(path):\n",
    "    with open(path, 'r') as archivo:\n",
    "        return archivo.readlines().join('')"
   ]
  },
  {
   "cell_type": "code",
   "execution_count": 14,
   "metadata": {
    "scrolled": true
   },
   "outputs": [
    {
     "name": "stdout",
     "output_type": "stream",
     "text": [
      "None\n"
     ]
    }
   ],
   "source": [
    "string = leer_string('string_mutante.nlp')\n",
    "print(string)"
   ]
  },
  {
   "cell_type": "markdown",
   "metadata": {},
   "source": [
    "#### Uso de multiples decoradores"
   ]
  },
  {
   "cell_type": "code",
   "execution_count": 16,
   "metadata": {
    "collapsed": true
   },
   "outputs": [],
   "source": [
    "def to_lowercase(f):\n",
    "    \"\"\"\n",
    "    Si el primer argumento de la función es un string, lo convierte a minúsculas.\n",
    "    Si el primer argumento es una lista, debe convertir a minúsculas todos los strings que ésta contenga.\n",
    "    \"\"\"\n",
    "    def _minusculas(*args, **kwargs):\n",
    "            argumentos = list()\n",
    "            if isinstance(args[0], str):\n",
    "                argumentos.append(args[0].lower())\n",
    "                argumentos.extend(args[1:])\n",
    "            elif isinstance(args[0], list):\n",
    "                argumentos.append(list(map(lambda x: x.lower() if isinstance(x, str) else x,args[0])))\n",
    "                argumentos.extend(args[1:])\n",
    "            return f(*argumentos, **kwargs)\n",
    "    return _minusculas\n",
    "                \n",
    "    \n",
    "def remove_special_characters(f):\n",
    "    \"\"\"\n",
    "    Si el primer argumento de la función decorada es un string, debe eliminar\n",
    "    de él todos los caracteres que no sean alfanuméricos ni espacios. Si el primer argumento es una lista,\n",
    "    debe hacer esto en todos los strings que contenga la lista.\n",
    "    \"\"\"\n",
    "    def remover_caracteres_especiales(*args, **kwargs):\n",
    "        # Podemos definir mas funciones dentro de funciones :D\n",
    "        \n",
    "        def limpiador(string):\n",
    "            limpio = \"\"\n",
    "            for letra in string:\n",
    "                if letra.isalnum() or letra == \" \":\n",
    "                    limpio += letra\n",
    "            return limpio\n",
    "        \n",
    "        if isinstance(args[0], str):\n",
    "            argumentos = list()\n",
    "            argumentos.append(limpiador(args[0]))\n",
    "            argumentos.extend(args[1:])\n",
    "            return f(*argumentos, **kwargs)\n",
    "        elif isinstance(args[0], list):\n",
    "            argumentolimpio = list(map(lambda x: limpiador(x) if isinstance(x, str) else x, args[0]))\n",
    "            argumentos = argumentolimpio + args[1:]\n",
    "            return f(*argumentos, **kwargs)\n",
    "    return remover_caracteres_especiales\n",
    "            \n",
    "\n",
    "def get_stats(f):\n",
    "    \"\"\"\n",
    "    Imprime el número de caracteres antes y despues de aplicar la función decorada. Debes\n",
    "    asumir que el primer argumento de la función será el texto original y el retorno de la función será el\n",
    "    texto modificado, ambos pueden ser o un string o una lista de strings. En caso de que sea una lista\n",
    "    de strings, el número de caracteres será la suma de los caracteres de todos los strings\n",
    "    \"\"\"\n",
    "    def estadisticas(*args, **kwargs):\n",
    "        def contar(item, tipo):\n",
    "            if isinstance(item, str):\n",
    "                print('Cantidad de caracteres del {}: {}'.format(tipo, len(item)))\n",
    "            elif isinstance(item, list):\n",
    "                suma = 0\n",
    "                for string in item:\n",
    "                    suma += len(string)\n",
    "                print('Cantidad de caracteres del {}: {}'.format(tipo, suma))\n",
    "        if args:\n",
    "            contar(args[0], \"input\")\n",
    "            retorno = f(*args, **kwargs)\n",
    "            contar(retorno, \"output\")\n",
    "            return retorno\n",
    "        return f(*args, **kwargs)\n",
    "    return estadisticas"
   ]
  },
  {
   "cell_type": "code",
   "execution_count": 17,
   "metadata": {
    "collapsed": true
   },
   "outputs": [],
   "source": [
    "from random import randint\n",
    "def mutar_string(string):\n",
    "    nuevo_string = ''\n",
    "    for letra in string:\n",
    "        if randint(0,10) <= 8:\n",
    "            nuevo_string += letra\n",
    "        else:\n",
    "            nuevo_string += letra*randint(1,5)\n",
    "            nuevo_string += '#'\n",
    "    return nuevo_string"
   ]
  },
  {
   "cell_type": "code",
   "execution_count": 20,
   "metadata": {},
   "outputs": [
    {
     "name": "stdout",
     "output_type": "stream",
     "text": [
      "Cantidad de caracteres del input: 89\n",
      "Cantidad de caracteres del output: 147\n",
      "Cantidad de caracteres del input: 89\n",
      "Cantidad de caracteres del output: 171\n",
      "este e#s ellll# rrrrr#am####o    #de prrr#ogra@@@#maciónnnn# #avv#anzada! y    #connn# estttt#e sss#tr(((((#nggggg#) #vvvvv#amosssss# a p#rrrr#o%%#b#ar ll#a fuuu#ncccc#ión\n"
     ]
    }
   ],
   "source": [
    "string = 'Este es el ram#o de progra@maCión AvAnzada! Y con este str(ng) vamos a pro%bar la función'\n",
    "string_mutado = mutar_string(string)\n",
    "print(mutar_string('Este es el ram#o de progra@maCión AvAnzada! Y con este str(ng) vamos a pro%bar la función'))"
   ]
  },
  {
   "cell_type": "code",
   "execution_count": 21,
   "metadata": {
    "collapsed": true
   },
   "outputs": [],
   "source": [
    "@get_stats\n",
    "@to_lowercase\n",
    "def mutar_string(string):\n",
    "    nuevo_string = ''\n",
    "    for letra in string:\n",
    "        if randint(0,10) <= 8:\n",
    "            nuevo_string += letra\n",
    "        else:\n",
    "            nuevo_string += letra*randint(1,5)\n",
    "            nuevo_string += '#'\n",
    "    return nuevo_string\n",
    "\n",
    "@to_lowercase\n",
    "@remove_special_characters\n",
    "def special_print(string):\n",
    "    print(string)"
   ]
  },
  {
   "cell_type": "code",
   "execution_count": 15,
   "metadata": {},
   "outputs": [
    {
     "name": "stdout",
     "output_type": "stream",
     "text": [
      "Este es el ram#o de progra@maCion AvAnzada! Y con este str(ng) vamos a pro%bar la funcion\n",
      "Este #esss#     #el rrrr#am#o de    #progra@mmm#aCiiiii#on AvAnza#da!!!!!# Y con este str(ng) vamos a pro%bar    #la funn#cion\n",
      "este esss     el rrrramo de    programmmaciiiiion avanzada y con este strng vamos a probar    la funncion\n"
     ]
    }
   ],
   "source": [
    "print(string)\n",
    "print(string_mutado)\n",
    "special_print(string_mutado)"
   ]
  },
  {
   "cell_type": "markdown",
   "metadata": {},
   "source": [
    "## Tip: Wraps [Explicación](https://stackoverflow.com/a/309000)"
   ]
  },
  {
   "cell_type": "code",
   "execution_count": null,
   "metadata": {
    "collapsed": true
   },
   "outputs": [],
   "source": []
  }
 ],
 "metadata": {
  "kernelspec": {
   "display_name": "Python 3",
   "language": "python",
   "name": "python3"
  },
  "language_info": {
   "codemirror_mode": {
    "name": "ipython",
    "version": 3
   },
   "file_extension": ".py",
   "mimetype": "text/x-python",
   "name": "python",
   "nbconvert_exporter": "python",
   "pygments_lexer": "ipython3",
   "version": "3.6.3"
  }
 },
 "nbformat": 4,
 "nbformat_minor": 2
}
