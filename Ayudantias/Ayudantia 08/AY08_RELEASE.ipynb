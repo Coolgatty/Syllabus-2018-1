{
 "cells": [
  {
   "cell_type": "markdown",
   "metadata": {},
   "source": [
    "# Ayudantía 08: Simulación\n",
    "\n",
    "**autores:** Alfredo y Gabriel.\n"
   ]
  },
  {
   "cell_type": "markdown",
   "metadata": {},
   "source": [
    "### Simulación Síncrona\n",
    "\n",
    "Una forma general de verlo sería:\n",
    "\n",
    "MIENTRAS el tiempo simulación no termine:\n",
    "    - SI ocurren eventos en este intervalo de tiempo:\n",
    "        - simular los eventos\n",
    "    - Aumentar tiempo en una unidad \n",
    "\n",
    "Problemas:\n",
    "\n",
    "- Ejecución lenta\n",
    "- Mayoría de incrementos no cambia el estado del sistema\n",
    "- Las verificaciones generan pérdida de tiempo en la CPU"
   ]
  },
  {
   "cell_type": "markdown",
   "metadata": {},
   "source": [
    "### Simulación DES\n",
    "\n",
    "Una forma general de verlo sería:\n",
    "\n",
    "MIENTRAS la lista de eventos no esté vacía y el tiempo de simulación no termine:\n",
    "    - Tomar un evento del principio de la lista de eventos\n",
    "    - Avanzar tiempo de simulación al tiempo del evento\n",
    "    - Simular el evento\n",
    "\n",
    "\n",
    "o bien,\n",
    "\n",
    "\n",
    "MIENTRAS hayan eventos y el tiempo de simulación no termine:\n",
    "    - Encontrar próximo evento\n",
    "    - Avanzar tiempo de simulación al tiempo del evento\n",
    "    - Simular el evento"
   ]
  },
  {
   "cell_type": "markdown",
   "metadata": {},
   "source": [
    "### Distribuciones\n",
    "\n",
    "Utilizaremos la libería random. \n",
    "\n",
    "- `random.choice(secuencia)`: Escoge un elemento aleatorio de una secuencia (ej: lista)\n",
    "\n",
    "- `random.randint(a, b)`: Para ENTEROS que distribuyen uniforme (a y b incluidos)\n",
    "\n",
    "- `random.uniform(a, b)`: Para valores que distribuyen uniforme entre [a, b)\n",
    "\n",
    "- `random.randrange(a, b, step)`: Para valores que distribuyen uniforme entre [a, b)\n",
    "\n",
    "- `random.expovariate(lambd)`: Para eventos que distribuyen exponencial (lambd ocurrencias cada una unidad de tiempo <=> ocurrencias ocurren en promedio cada 1/lambd tiempo)\n"
   ]
  },
  {
   "cell_type": "markdown",
   "metadata": {},
   "source": [
    "## Problema\n",
    "\n",
    "Desde el ministerio de transporte, se te ha pedido que implementes un programa que modele y simule el funcionamiento de sus autopistas, pues quiere ver en qué autopistas se debe licitar nuevas estaciones de servicio y gasolineras. Para esto, te dan las siguientes indicaciones: \n",
    " \n",
    ">\"El programa debe ser capaz de simular el funcionamiento de una ruta que tendrá un largo entre 350 y 500 km (que es la distancia que posee dicha ruta para ser completada) y una probabilidad de que un conductor en auto,  llegue a la ruta distribuye exponencial de tasa lambda (tasa de llegada es una variable aleatoria entre 0.05 y 0.1 vehículos por unidad de tiempo). Cada conductor, puede conducir a una velocidad aleatoria entre entre 1 y 3 km/minuto. Además, cada vehículo gasta entre 0.1 y 0.07 litros por cada kilómetro recorrido. Además de esto, los autos no tienen estanques infinitos, por lo que al momento de ingresar a la ruta, se tiene que su estanque tiene una cantidad entera aleatoria entre 40 y 50 litros. Como no hay estaciones de servicio, un auto puede llegar al final de la ruta, o quedarse en pana en la mitad del trayecto. Finalmente, carabineros realiza control a los autos de manera aleatoria: en promedio cada 3 unidades de tiempo se selecciona un auto en la carretera al azar y se le realiza control durante 5 a 10 unidades de tiempo.  Una vez que la simulación termine, se debe informar cuántos autos se quedaron sin bencina, y cuántos lograron terminar la ruta exitosamente.\""
   ]
  },
  {
   "cell_type": "code",
   "execution_count": null,
   "metadata": {
    "collapsed": true
   },
   "outputs": [],
   "source": []
  },
  {
   "cell_type": "code",
   "execution_count": null,
   "metadata": {
    "collapsed": true
   },
   "outputs": [],
   "source": []
  },
  {
   "cell_type": "code",
   "execution_count": null,
   "metadata": {
    "collapsed": true
   },
   "outputs": [],
   "source": []
  },
  {
   "cell_type": "code",
   "execution_count": null,
   "metadata": {
    "collapsed": true
   },
   "outputs": [],
   "source": []
  },
  {
   "cell_type": "code",
   "execution_count": null,
   "metadata": {
    "collapsed": true
   },
   "outputs": [],
   "source": []
  },
  {
   "cell_type": "code",
   "execution_count": null,
   "metadata": {
    "collapsed": true
   },
   "outputs": [],
   "source": []
  },
  {
   "cell_type": "code",
   "execution_count": null,
   "metadata": {
    "collapsed": true
   },
   "outputs": [],
   "source": []
  }
 ],
 "metadata": {
  "kernelspec": {
   "display_name": "Python 3",
   "language": "python",
   "name": "python3"
  },
  "language_info": {
   "codemirror_mode": {
    "name": "ipython",
    "version": 3
   },
   "file_extension": ".py",
   "mimetype": "text/x-python",
   "name": "python",
   "nbconvert_exporter": "python",
   "pygments_lexer": "ipython3",
   "version": "3.5.2"
  }
 },
 "nbformat": 4,
 "nbformat_minor": 1
}
