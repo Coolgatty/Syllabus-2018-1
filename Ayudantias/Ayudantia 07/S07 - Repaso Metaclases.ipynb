{
 "cells": [
  {
   "cell_type": "markdown",
   "metadata": {},
   "source": [
    "# Ayudantía Virtual: Metaclases\n",
    "\n",
    "En este material, se hará un breve resumen de Metaclases. Para profundizar más recuerden estudiar los [contenidos de la semana](https://github.com/IIC2233/contenidos/blob/master/semana-07/01-metaclases.ipynb)\n",
    "\n",
    "Ya vimos con los decoradores que las funciones también son objetos en Python. De manera análoga, las clases son objetos y pueden ser asignadas a otras variables o incluso ser pasadas como argumento en funciones. Hagamos una función que se encargue de llamar al argumento que se le pasa:"
   ]
  },
  {
   "cell_type": "code",
   "execution_count": null,
   "metadata": {
    "collapsed": true
   },
   "outputs": [],
   "source": [
    "def llamador(foo):\n",
    "    print(\"Llamando\")\n",
    "    retorno = foo()\n",
    "    print(\"Retornando\")\n",
    "    return retorno"
   ]
  },
  {
   "cell_type": "markdown",
   "metadata": {},
   "source": [
    "A esta función podemos pasarle lo que queramos, con sólo la restricción de que sea llamable. Veamos algunos ejemplos:"
   ]
  },
  {
   "cell_type": "code",
   "execution_count": null,
   "metadata": {
    "collapsed": true
   },
   "outputs": [],
   "source": [
    "llamador(5)  # Le pasamos como argumento un entero."
   ]
  },
  {
   "cell_type": "code",
   "execution_count": null,
   "metadata": {
    "collapsed": true
   },
   "outputs": [],
   "source": [
    "def funcion_simple():\n",
    "    return \"cualquier cosa\"\n",
    "\n",
    "llamador(funcion_simple)  # Le pasamos como argumento la función recién creada. Retorna el string."
   ]
  },
  {
   "cell_type": "code",
   "execution_count": null,
   "metadata": {
    "collapsed": true
   },
   "outputs": [],
   "source": [
    "llamador(funcion_simple())  # Le pasamos como argumento el llamado a la función simple, es decir, un string."
   ]
  },
  {
   "cell_type": "code",
   "execution_count": null,
   "metadata": {
    "collapsed": true
   },
   "outputs": [],
   "source": [
    "llamador(print)  # Le pasamos como argumento la función print. Retorna None."
   ]
  },
  {
   "cell_type": "code",
   "execution_count": null,
   "metadata": {
    "collapsed": true
   },
   "outputs": [],
   "source": [
    "class ClasePrueba: pass\n",
    "\n",
    "llamador(ClasePrueba)  # Le pasamos como argumento la clase ClasePrueba. Retorna una instancia."
   ]
  },
  {
   "cell_type": "code",
   "execution_count": null,
   "metadata": {
    "collapsed": true
   },
   "outputs": [],
   "source": [
    "llamador(ClasePrueba())  # Le pasamos como argumento el llamado de la clase ClasePrueba, es decir, una instancia de ClasePrueba."
   ]
  },
  {
   "cell_type": "code",
   "execution_count": null,
   "metadata": {
    "collapsed": true
   },
   "outputs": [],
   "source": [
    "class ClasePrueba: \n",
    "    def __call__(self):\n",
    "        return \"Soy el return del llamado a una instancia de la clase ClasePrueba\"\n",
    "    \n",
    "llamador(ClasePrueba())  # Le pasamos como argumento una instancia (ahora llamable) de la ClasePrueba. Retorna el string"
   ]
  },
  {
   "cell_type": "code",
   "execution_count": null,
   "metadata": {
    "collapsed": true
   },
   "outputs": [],
   "source": [
    "variable = ClasePrueba # Asignamos la clase a una variable\n",
    "\n",
    "llamador(variable) # Le pasamos como argumento la clase ClasePrueba pero a través de la variable llamada variable. Retorna una instancia."
   ]
  },
  {
   "cell_type": "markdown",
   "metadata": {},
   "source": [
    "---\n",
    "Veamos un poco cómo está construido Python. \n",
    "\n",
    "Como pueden ver, al igual que cualquier otro objeto en Python, las clases pueden ser pasadas como argumentos, asignadas a otras variables, etc. Además, todos los objetos que conocemos son instancia de alguna clase. Para saber de qué clase son instancia (o, en otras palabras, su tipo) debemos hacer `type(objeto)`."
   ]
  },
  {
   "cell_type": "code",
   "execution_count": null,
   "metadata": {
    "collapsed": true
   },
   "outputs": [],
   "source": [
    "a = 5\n",
    "b = \"s\"\n",
    "c = True\n",
    "\n",
    "print(type(a))\n",
    "print(type(b))\n",
    "print(type(c))"
   ]
  },
  {
   "cell_type": "markdown",
   "metadata": {},
   "source": [
    "Pero como vimos antes, las clases también son objetos, por lo que deben ser instancias de algo. Veamos de qué son instancias:"
   ]
  },
  {
   "cell_type": "code",
   "execution_count": null,
   "metadata": {
    "collapsed": true
   },
   "outputs": [],
   "source": [
    "print(type(int))\n",
    "print(type(str))\n",
    "print(type(bool))"
   ]
  },
  {
   "cell_type": "markdown",
   "metadata": {},
   "source": [
    "En Python, todos los objetos son instancias de `type`, y de hecho, todos los objetos heredan de `object`. Solo para mostrarlo, imprimiré el _Method Resolution Order_ de algunas clases, el cual muestra el orden de herencia de las clases y es utilizado por Python para decidir el orden de llamado de los métodos cuando existe herencia. "
   ]
  },
  {
   "cell_type": "code",
   "execution_count": null,
   "metadata": {
    "collapsed": true
   },
   "outputs": [],
   "source": [
    "print(int.__mro__)\n",
    "print(str.__mro__)\n",
    "print(bool.__mro__)\n"
   ]
  },
  {
   "cell_type": "markdown",
   "metadata": {},
   "source": [
    "Veamos de qué tipo es `object`, o en otras palabras, instancia de qué es la clase `object`."
   ]
  },
  {
   "cell_type": "code",
   "execution_count": null,
   "metadata": {
    "collapsed": true
   },
   "outputs": [],
   "source": [
    "print(type(object))"
   ]
  },
  {
   "cell_type": "markdown",
   "metadata": {
    "collapsed": true
   },
   "source": [
    "Veamos ahora de qué clases hereda la clase `type`."
   ]
  },
  {
   "cell_type": "code",
   "execution_count": null,
   "metadata": {
    "collapsed": true
   },
   "outputs": [],
   "source": [
    "print(type.__mro__)"
   ]
  },
  {
   "cell_type": "markdown",
   "metadata": {},
   "source": [
    "Confuso, ¿no?. Así está construido Python y funciona de maravilla :3.\n",
    "\n",
    "---\n",
    "\n",
    "Volvamos con la materia."
   ]
  },
  {
   "cell_type": "markdown",
   "metadata": {},
   "source": [
    "Como vimos, todos los objetos de Python son instancias de alguna clase, que por defecto es la clase `type`. Sin embargo, uno puede crear su propia clase de clases, o bien, una Metaclase. Para esto, uno debe crear una clase que herede de `type`:"
   ]
  },
  {
   "cell_type": "code",
   "execution_count": null,
   "metadata": {
    "collapsed": true
   },
   "outputs": [],
   "source": [
    "class MiMetaClase(type): pass"
   ]
  },
  {
   "cell_type": "markdown",
   "metadata": {},
   "source": [
    "Para que una clase tenga de metaclase a `MiMetaClase`, se debe realizar de la siguiente manera:"
   ]
  },
  {
   "cell_type": "code",
   "execution_count": null,
   "metadata": {
    "collapsed": true
   },
   "outputs": [],
   "source": [
    "class MiClase(metaclass = MiMetaClase): pass"
   ]
  },
  {
   "cell_type": "markdown",
   "metadata": {},
   "source": [
    "Si ahora imprimimos el tipo de la clase `MiClase`, se debiese imprimir su metaclase."
   ]
  },
  {
   "cell_type": "code",
   "execution_count": null,
   "metadata": {
    "collapsed": true
   },
   "outputs": [],
   "source": [
    "print(type(MiClase))"
   ]
  },
  {
   "cell_type": "markdown",
   "metadata": {
    "collapsed": true
   },
   "source": [
    "Las Metaclases en Python tienen el control sobre cómo se instanciaran sus clases, es decir, tienen el control de cómo se definiran las clases.\n",
    "\n",
    "Uno puede sobreescribir 3 métodos para modificar el comportamiento de sus clases, los cuales son: `__new__`, `__init__` y `__call__`."
   ]
  },
  {
   "cell_type": "code",
   "execution_count": null,
   "metadata": {
    "collapsed": true
   },
   "outputs": [],
   "source": [
    "class MiMetaClase(type): # Hereda de type, entonces es una metaclase.\n",
    "    \n",
    "    def __new__(meta, name, bases, clsdic):\n",
    "        print(\"Estamos en el __new__ de la Metaclase\")\n",
    "        return super().__new__(meta, name, bases, clsdic)\n",
    "    \n",
    "    def __init__(cls, name, bases, clsdic):\n",
    "        print(\"Estamos en el __init__ de la Metaclase\")\n",
    "        super().__init__(name, bases, clsdic)\n",
    "        \n",
    "    def __call__(cls, *args, **kwargs):\n",
    "        print(\"Estamos en el __call__ de la Metaclase\")\n",
    "        return super().__call__(*args, **kwargs)\n",
    "    \n",
    "    \n",
    "class MiClaseA(metaclass = MiMetaClase):\n",
    "    \n",
    "    pass\n",
    "\n",
    "var = MiClase()"
   ]
  },
  {
   "cell_type": "markdown",
   "metadata": {},
   "source": [
    "El método `__new__` e `__init__` de la metaclase se ejecutan al momento instanciar la metaclase, o bien, de definir la clase. En cambio, el método `__call__` se ejecuta cuando se instancia la clase que es instancia de la metaclase, o bien cuando se llama a la instancia de la metaclase."
   ]
  },
  {
   "cell_type": "code",
   "execution_count": null,
   "metadata": {
    "collapsed": true
   },
   "outputs": [],
   "source": [
    "class MiClaseB(metaclass = MiMetaClase): pass \n",
    "# Definimos una clase con metaclase MiMetaClase, o bien, instanciamos la metaclase."
   ]
  },
  {
   "cell_type": "code",
   "execution_count": null,
   "metadata": {
    "collapsed": true
   },
   "outputs": [],
   "source": [
    "a = MiClaseB()  \n",
    "# Instanciamos la clase MiClaseB, o bien, llamamos a la instancia de la metaclase."
   ]
  },
  {
   "cell_type": "markdown",
   "metadata": {},
   "source": [
    "En una clase que no hereda de `type` también se pueden definir los métodos  `__new__`, `__init__` y `__call__`. Veamos cómo funcionan."
   ]
  },
  {
   "cell_type": "code",
   "execution_count": null,
   "metadata": {
    "collapsed": true
   },
   "outputs": [],
   "source": [
    "class ClaseComun:\n",
    "    \n",
    "    def __new__(cls, *args, **kwargs):\n",
    "        print(\"Estamos en el __new__ de la clase\")\n",
    "        return super().__new__(cls, *args, **kwargs)\n",
    "    \n",
    "    def __init__(self, *args, **kwargs):\n",
    "        print(\"Estamos en el __init__ de la clase\")\n",
    "        \n",
    "    def __call__(self, *args, **kwargs):\n",
    "        print(\"Estamos en el __call__ de la clase\")\n",
    "        \n",
    "instanciaA = ClaseComun()\n",
    "retornoA = instanciaA()"
   ]
  },
  {
   "cell_type": "code",
   "execution_count": null,
   "metadata": {
    "collapsed": true
   },
   "outputs": [],
   "source": [
    "instanciaB = ClaseComun() # Instanciamos la clase ClaseComun"
   ]
  },
  {
   "cell_type": "code",
   "execution_count": null,
   "metadata": {
    "collapsed": true
   },
   "outputs": [],
   "source": [
    "retornoB = instanciaB()    # Llamamos a la instancia de la clase ClaseComun"
   ]
  },
  {
   "cell_type": "markdown",
   "metadata": {},
   "source": [
    "Si se fijan, el momento en que se llaman a los métodos son análogos para una clase que hereda de `type` y una que no. veamos ahora qué hacen estos métodos."
   ]
  },
  {
   "cell_type": "markdown",
   "metadata": {},
   "source": [
    "Métodos `__new__`, `__init__` y `__call__` de una clase normal:\n",
    "\n",
    "- `__new__`: \n",
    "    - Objetivo: Se encarga de instanciar la clase correspondiente.\n",
    "    - Argumentos que recibe: recibe la clase y los argumentos posicionales y _keyworded_ que se le pasaron al instanciar.\n",
    "    - Poder: Puede interceptar la instanciación de la clase.\n",
    "    - Retorno: retorna la instancia de la clase (si se desea.. se podría retornar otra cosa).\n",
    "- `__init__`: \n",
    "    - Objetivo: Se encarga de inicializar la instancia correspondiente **ya creada**.\n",
    "    - Argumentos que recibe: recibe la instancia y los argumentos posicionales y _keyworded_ que se le pasaron al instanciar.\n",
    "    - Poder: Puede agregar/quitar/modificar atributos de la instancia.\n",
    "    - Retorno: No retorna.\n",
    "- `__call__`: \n",
    "    - Objetivo: Se encarga de manejar el llamado de una instancia de la clase correspondiente.\n",
    "    - Argumentos que recibe: recibe los argumentos posicionales y _keyworded_ que se le pasan al llamar a la clase.\n",
    "    - Poder: Hace lo que quiere.\n",
    "    - Retorno: retorna lo que se desee.\n",
    "\n",
    "Métodos `__new__`, `__init__` y `__call__` de una metaclase (recuerden que la instancia de la metaclase es una clase):\n",
    "\n",
    "- `__new__`: \n",
    "    - Objetivo: Se encarga de instanciar la metaclase, es decir, de definir una clase que tiene de metaclase a la metaclase correspondiente.\n",
    "    - Argumentos que recibe: recibe la metaclase, el nombre, las bases (o clases padres), y un diccionario con los atributos y métodos de la clase a crear.\n",
    "    - Poder: Puede interceptar la instanciación de la metaclase, es decir, puede interceptar la creación de las clases que tienen de metaclase a la metaclase correspondiente.\n",
    "    - Retorno: retorna la instancia de la metaclase, es decir, se retorna la clase creada (si se desea.. se podría retornar otra cosa).\n",
    "- `__init__`: \n",
    "    - Objetivo: Se encarga de inicializar la instancia correspondiente **ya creada**, es decir, se encarga de inicializar la clase que se creó.\n",
    "    - Argumentos que recibe: recibe la clase creada (instancia de la metaclase), el nombre, las bases (o clases padres), y un diccionario con los atributos y métodos de la clase **ya creada**.\n",
    "    - Poder: Puede agregar/quitar/modificar atributos de la instancia de la metaclase, es decir, a la clase creada.\n",
    "    - Retorno: No retorna.\n",
    "    \n",
    "Para entender qué hace el método `__call__`, deben recordar que el llamado a una clase es una instanciación de la clase:\n",
    "    \n"
   ]
  },
  {
   "cell_type": "code",
   "execution_count": null,
   "metadata": {},
   "outputs": [],
   "source": [
    "class ClasePrueba:\n",
    "    \n",
    "    def __new__(cls, *args, **kwargs):\n",
    "        print(\"Llamaste a la clase!\")\n",
    "        \n",
    "        print(\"Esperas que te retorne una instancia.. pero no.. retornaré un entero\")\n",
    "        return 5\n",
    "\n",
    "a = ClasePrueba()   # Llamado a la clase!\n",
    "print(a)\n",
    "\n",
    "#  varieble = a()   # Este sería un llamado a la instancia de la clase!"
   ]
  },
  {
   "cell_type": "markdown",
   "metadata": {},
   "source": [
    "- `__call__`: \n",
    "    - Objetivo: Se encarga de manejar el llamado de una instancia de la metaclase, es decir, de la clase que tiene de metaclase a la metaclase correspondiente.\n",
    "    - Argumentos que recibe: recibe la clase y los argumentos posicionales y _keyworded_ que se pasaron al llamar a la clase.\n",
    "    - Poder: Puede interceptar la instanciación de la clase, pudiendo modificar las instancias o bien retornar otra cosa.\n",
    "    - Retorno: retorna una instancia de la clase (si es que se desea.. muajajaja)\n",
    "\n",
    "\n",
    "Probemos esto. Es importante que recuerden que las clases con metaclase `MiMetaClase` son de tipo `MiMetaClase`."
   ]
  },
  {
   "cell_type": "code",
   "execution_count": null,
   "metadata": {
    "collapsed": true
   },
   "outputs": [],
   "source": [
    "class MiMetaClase(type): # Hereda de type, entonces es una metaclase.\n",
    "    \n",
    "    def __new__(meta, name, bases, clsdic):\n",
    "        # Se encarga de instanciar objetos tipo MiMetaClase (es decir, de crear clases con metaclase MiMetaClase).\n",
    "        print(\"Estamos en el __new__ de la Metaclase\")\n",
    "        return super().__new__(meta, name, bases, clsdic)\n",
    "    \n",
    "    def __init__(cls, name, bases, clsdic):\n",
    "        # Se encarga de inicializar objetos tipo MiMetaClase.\n",
    "        print(\"Estamos en el __init__ de la Metaclase\")\n",
    "        super().__init__(name, bases, clsdic)\n",
    "        \n",
    "    def __call__(cls, *args, **kwargs):\n",
    "        # Hace llamable a los objetos de tipo MiMetaClase.\n",
    "        print(\"Estamos en el __call__ de la Metaclase\")\n",
    "        return super().__call__(*args, **kwargs)\n",
    "    "
   ]
  },
  {
   "cell_type": "code",
   "execution_count": null,
   "metadata": {},
   "outputs": [],
   "source": [
    "# Instanciamos un objeto de tipo MiMetaClase.\n",
    "class Clase(metaclass = MiMetaClase): \n",
    "    \n",
    "    def __new__(cls, *args, **kwargs):\n",
    "        print(\"Estamos en el __new__ de la clase\")\n",
    "        return super().__new__(cls, *args, **kwargs)\n",
    "    \n",
    "    def __init__(self, *args, **kwargs):\n",
    "        print(\"Estamos en el __init__ de la clase\")\n",
    "        \n",
    "    def __call__(self, *args, **kwargs):\n",
    "        print(\"Estamos en el __call__ de la clase\")\n"
   ]
  },
  {
   "cell_type": "code",
   "execution_count": null,
   "metadata": {},
   "outputs": [],
   "source": [
    "# Cambiaré el nombre al objeto para hacerlo más entendible\n",
    "\n",
    "objeto_tipo_MiMetaClase = Clase\n",
    "print(type(objeto_tipo_MiMetaClase))"
   ]
  },
  {
   "cell_type": "code",
   "execution_count": null,
   "metadata": {},
   "outputs": [],
   "source": [
    "# Llamamos al objeto\n",
    "retorno = objeto_tipo_MiMetaClase()\n",
    "# De esta manera se está instanciando un objeto tipo Clase."
   ]
  },
  {
   "cell_type": "code",
   "execution_count": null,
   "metadata": {},
   "outputs": [],
   "source": [
    "# Nuevamente cambiaré el nombre al objeto para hacerlo más entendible\n",
    "\n",
    "objeto_tipo_Clase = retorno\n",
    "print(type(objeto_tipo_Clase))"
   ]
  },
  {
   "cell_type": "code",
   "execution_count": null,
   "metadata": {},
   "outputs": [],
   "source": [
    "# llamamos al objeto\n",
    "retorno = objeto_tipo_Clase()"
   ]
  },
  {
   "cell_type": "code",
   "execution_count": null,
   "metadata": {},
   "outputs": [],
   "source": [
    "print(retorno) # No se retorna nada en el __call__ de la clase, por lo que es None por defecto."
   ]
  },
  {
   "cell_type": "markdown",
   "metadata": {},
   "source": [
    "---\n",
    "Modifiquemos algún método, como por ejemplo el `__new__` de la metaclase."
   ]
  },
  {
   "cell_type": "code",
   "execution_count": null,
   "metadata": {
    "collapsed": true
   },
   "outputs": [],
   "source": [
    "class MiMetaClase(type): # Hereda de type, entonces es una metaclase.\n",
    "    \n",
    "    def __new__(meta, name, bases, clsdic):\n",
    "        # Se encarga de instanciar objetos tipo MiMetaClase (es decir, de crear clases con metaclase MiMetaClase).\n",
    "        print(\"Estamos en el __new__ de la Metaclase\")\n",
    "        \n",
    "        return 13 # retornaremos cualquier cosa, en vez del llamado a super().\n",
    "    \n",
    "        # return super().__new__(meta, name, bases, clsdic)\n",
    "    \n",
    "    def __init__(cls, name, bases, clsdic):\n",
    "        # Se encarga de inicializar objetos tipo MiMetaClase.\n",
    "        print(\"Estamos en el __init__ de la Metaclase\")\n",
    "        super().__init__(name, bases, clsdic)\n",
    "        \n",
    "    def __call__(cls, *args, **kwargs):\n",
    "        # Hace llamable a los objetos de tipo MiMetaClase.\n",
    "        print(\"Estamos en el __call__ de la Metaclase\")\n",
    "        return super().__call__(*args, **kwargs)"
   ]
  },
  {
   "cell_type": "code",
   "execution_count": null,
   "metadata": {
    "collapsed": true
   },
   "outputs": [],
   "source": [
    "# Instanciamos un objeto de tipo MiMetaClase.\n",
    "class Clase(metaclass = MiMetaClase): \n",
    "    \n",
    "    def __new__(cls, *args, **kwargs):\n",
    "        print(\"Estamos en el __new__ de la clase\")\n",
    "        return super().__new__(cls, *args, **kwargs)\n",
    "    \n",
    "    def __init__(self, *args, **kwargs):\n",
    "        print(\"Estamos en el __init__ de la clase\")\n",
    "        \n",
    "    def __call__(self, *args, **kwargs):\n",
    "        print(\"Estamos en el __call__ de la clase\")"
   ]
  },
  {
   "cell_type": "markdown",
   "metadata": {},
   "source": [
    "Notemos que ya no se imprime el mensaje del `__init__`."
   ]
  },
  {
   "cell_type": "code",
   "execution_count": null,
   "metadata": {
    "collapsed": true
   },
   "outputs": [],
   "source": [
    "print(Clase) # Si imprimimos, vemos un 13, el cual es igual al que retornamos en el __new__."
   ]
  },
  {
   "cell_type": "markdown",
   "metadata": {},
   "source": [
    "Veamos otro cambio, ahora modificaremos el `__call__` de la metaclase."
   ]
  },
  {
   "cell_type": "code",
   "execution_count": null,
   "metadata": {
    "collapsed": true
   },
   "outputs": [],
   "source": [
    "class MiMetaClase(type): # Hereda de type, entonces es una metaclase.\n",
    "    \n",
    "    def __new__(meta, name, bases, clsdic):\n",
    "        # Se encarga de instanciar objetos tipo MiMetaClase (es decir, de crear clases con metaclase MiMetaClase).\n",
    "        print(\"Estamos en el __new__ de la Metaclase\")\n",
    "        return super().__new__(meta, name, bases, clsdic)\n",
    "    \n",
    "    def __init__(cls, name, bases, clsdic):\n",
    "        # Se encarga de inicializar objetos tipo MiMetaClase.\n",
    "        print(\"Estamos en el __init__ de la Metaclase\")\n",
    "        super().__init__(name, bases, clsdic)\n",
    "        \n",
    "    def __call__(cls, *args, **kwargs):\n",
    "        # Hace llamable a los objetos de tipo MiMetaClase.\n",
    "        print(\"Estamos en el __call__ de la Metaclase\")\n",
    "        \n",
    "        return \"hola\" # retornaremos cualquier cosa, en vez del llamado a super().\n",
    "    \n",
    "        # return super().__call__(*args, **kwargs)"
   ]
  },
  {
   "cell_type": "code",
   "execution_count": null,
   "metadata": {
    "collapsed": true
   },
   "outputs": [],
   "source": [
    "# Instanciamos un objeto de tipo MiMetaClase.\n",
    "class Clase(metaclass = MiMetaClase): \n",
    "    \n",
    "    def __new__(cls, *args, **kwargs):\n",
    "        print(\"Estamos en el __new__ de la clase\")\n",
    "        return super().__new__(cls, *args, **kwargs)\n",
    "    \n",
    "    def __init__(self, *args, **kwargs):\n",
    "        print(\"Estamos en el __init__ de la clase\")\n",
    "        \n",
    "    def __call__(self, *args, **kwargs):\n",
    "        print(\"Estamos en el __call__ de la clase\")"
   ]
  },
  {
   "cell_type": "code",
   "execution_count": null,
   "metadata": {
    "collapsed": true
   },
   "outputs": [],
   "source": [
    "instancia = Clase()"
   ]
  },
  {
   "cell_type": "markdown",
   "metadata": {},
   "source": [
    "Si se fijan, ahora faltan los llamados al `__new__` y al `__init__` de la clase `Clase`. Veamos porqué:"
   ]
  },
  {
   "cell_type": "code",
   "execution_count": null,
   "metadata": {
    "collapsed": true
   },
   "outputs": [],
   "source": [
    "print(instancia)"
   ]
  },
  {
   "cell_type": "markdown",
   "metadata": {},
   "source": [
    "Hagamos un leve cambio.. Guardemos los retornos que hace `super()` en la metaclase. Recordemos que el método `__init__` no retorna."
   ]
  },
  {
   "cell_type": "code",
   "execution_count": null,
   "metadata": {
    "collapsed": true
   },
   "outputs": [],
   "source": [
    "class MiMetaClase(type): # Hereda de type, entonces es una metaclase.\n",
    "    \n",
    "    def __new__(meta, name, bases, clsdic):\n",
    "        # Se encarga de instanciar objetos tipo MiMetaClase (es decir, de crear clases con metaclase MiMetaClase).\n",
    "        print(\"Estamos en el __new__ de la Metaclase\")\n",
    "        \n",
    "        clase = super().__new__(meta, name, bases, clsdic)\n",
    "        return clase\n",
    "    \n",
    "    \n",
    "    def __init__(cls, name, bases, clsdic):\n",
    "        # Se encarga de inicializar objetos tipo MiMetaClase.\n",
    "        print(\"Estamos en el __init__ de la Metaclase\")\n",
    "        super().__init__(name, bases, clsdic)\n",
    "        \n",
    "    def __call__(cls, *args, **kwargs):\n",
    "        # Hace llamable a los objetos de tipo MiMetaClase.\n",
    "        print(\"Estamos en el __call__ de la Metaclase\")\n",
    "        \n",
    "        instancia = super().__call__(*args, **kwargs)\n",
    "        \n",
    "        print(\"Yo soy {},  una instancia de {}\".format(instancia, cls))\n",
    "        \n",
    "        return True # retornaremos cualquier cosa, en vez del llamado a super().\n"
   ]
  },
  {
   "cell_type": "code",
   "execution_count": null,
   "metadata": {},
   "outputs": [],
   "source": [
    "# Instanciamos un objeto de tipo MiMetaClase.\n",
    "class Clase(metaclass = MiMetaClase): \n",
    "    \n",
    "    def __new__(cls, *args, **kwargs):\n",
    "        print(\"Estamos en el __new__ de la clase\")\n",
    "        return super().__new__(cls, *args, **kwargs)\n",
    "    \n",
    "    def __init__(self, *args, **kwargs):\n",
    "        print(\"Estamos en el __init__ de la clase\")\n",
    "        \n",
    "    def __call__(self, *args, **kwargs):\n",
    "        print(\"Estamos en el __call__ de la clase\")"
   ]
  },
  {
   "cell_type": "code",
   "execution_count": null,
   "metadata": {},
   "outputs": [],
   "source": [
    "instancia = Clase()"
   ]
  },
  {
   "cell_type": "code",
   "execution_count": null,
   "metadata": {},
   "outputs": [],
   "source": [
    "print(instancia)"
   ]
  },
  {
   "cell_type": "markdown",
   "metadata": {},
   "source": [
    "Esta vez sí se imprimen los mensajes, es decir, que sí se ejecutan los métodos `__new__` e `__init__` de la clase `Clase`. Sin embargo, igual no se obtiene la instancia como se desea.\n",
    "\n",
    "Esto ocurre porque el método `__call__` de la metaclase `MiMetaClase` debería retornar el objeto instanciado, o al menos debería en algunos casos. Si se fijan, es de esta la manera en que una metaclase puede decidir qué se instancia finalmente."
   ]
  },
  {
   "cell_type": "markdown",
   "metadata": {},
   "source": [
    "Hasta aquí llega el repaso. Fue un poco extenso pero ánimo que probando van a ir entendiendo mejor!\n",
    "\n",
    "---\n",
    "PD: Veamos cómo influye el método `__new__` de la clase `Clase`. (ya lo vimos.. pero igual probemos!)"
   ]
  },
  {
   "cell_type": "code",
   "execution_count": null,
   "metadata": {
    "collapsed": true
   },
   "outputs": [],
   "source": [
    "class MiMetaClase(type): # Hereda de type, entonces es una metaclase.\n",
    "    \n",
    "    def __new__(meta, name, bases, clsdic):\n",
    "        # Se encarga de instanciar objetos tipo MiMetaClase (es decir, de crear clases con metaclase MiMetaClase).\n",
    "        print(\"Estamos en el __new__ de la Metaclase\")\n",
    "        clase = super().__new__(meta, name, bases, clsdic)\n",
    "        return clase\n",
    "    \n",
    "    def __init__(cls, name, bases, clsdic):\n",
    "        # Se encarga de inicializar objetos tipo MiMetaClase.\n",
    "        print(\"Estamos en el __init__ de la Metaclase\")\n",
    "        super().__init__(name, bases, clsdic)\n",
    "        \n",
    "    def __call__(cls, *args, **kwargs):\n",
    "        # Hace llamable a los objetos de tipo MiMetaClase.\n",
    "        print(\"Estamos en el __call__ de la Metaclase\")\n",
    "        instancia = super().__call__(*args, **kwargs)\n",
    "        return instancia\n"
   ]
  },
  {
   "cell_type": "code",
   "execution_count": null,
   "metadata": {
    "collapsed": true
   },
   "outputs": [],
   "source": [
    "# Instanciamos un objeto de tipo MiMetaClase.\n",
    "class Clase(metaclass = MiMetaClase): \n",
    "    \n",
    "    def __new__(cls, *args, **kwargs):\n",
    "        print(\"Estamos en el __new__ de la clase\")\n",
    "        \n",
    "        instancia = super().__new__(cls, *args, **kwargs)\n",
    "        \n",
    "        return 5.9 # Retornamos un float, en vez de la instancia creada\n",
    "        # return instancia\n",
    "    \n",
    "    def __init__(self, *args, **kwargs):\n",
    "        print(\"Estamos en el __init__ de la clase\")\n",
    "        \n",
    "    def __call__(self, *args, **kwargs):\n",
    "        print(\"Estamos en el __call__ de la clase\")"
   ]
  },
  {
   "cell_type": "code",
   "execution_count": null,
   "metadata": {
    "collapsed": true
   },
   "outputs": [],
   "source": [
    "instancia = Clase()"
   ]
  },
  {
   "cell_type": "code",
   "execution_count": null,
   "metadata": {
    "collapsed": true
   },
   "outputs": [],
   "source": [
    "print(instancia)"
   ]
  },
  {
   "cell_type": "code",
   "execution_count": null,
   "metadata": {
    "collapsed": true
   },
   "outputs": [],
   "source": []
  }
 ],
 "metadata": {
  "kernelspec": {
   "display_name": "Python 3",
   "language": "python",
   "name": "python3"
  },
  "language_info": {
   "codemirror_mode": {
    "name": "ipython",
    "version": 3
   },
   "file_extension": ".py",
   "mimetype": "text/x-python",
   "name": "python",
   "nbconvert_exporter": "python",
   "pygments_lexer": "ipython3",
   "version": "3.5.2"
  }
 },
 "nbformat": 4,
 "nbformat_minor": 2
}
