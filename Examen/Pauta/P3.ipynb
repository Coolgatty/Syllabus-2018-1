{
 "cells": [
  {
   "cell_type": "markdown",
   "metadata": {},
   "source": [
    "# Estructura de datos\n",
    "\n",
    "### Competencias evaluadas\n",
    "\n",
    "- Entender una estructura basada en nodos implementada parcialmente.\n",
    "- Comparar estructuras de datos en cuanto a la eficiencia de ciertas operaciones.\n",
    "- Ser capaz de recorrer y extraer información desde una estructura basada en nodos."
   ]
  },
  {
   "cell_type": "markdown",
   "metadata": {},
   "source": [
    "Un laberinto de palabras es un grafo dirigido en el que, dado un punto de inicio fijo, todo recorrido puede ser descrito mediante _strings_. Para ello, se disponen de aristas etiquetadas con letras de un alfabeto que varía según el laberinto. Por cada nodo existe **exactamente** una arista saliente asociada a cada letra. Para ilustrar esta situación considere el siguiente laberinto con alfabeto $\\Sigma = \\{a, b\\}$ y cuyo punto de inicio está dado por $n_0$:"
   ]
  },
  {
   "cell_type": "markdown",
   "metadata": {},
   "source": [
    "IMAGE PLACEHOLDER"
   ]
  },
  {
   "cell_type": "markdown",
   "metadata": {},
   "source": [
    "Veamos por donde pasan algunos recorridos:\n",
    "- \"abba\": $n_0$, $n_1$, $n_2$, $n_3$, $n_2$.\n",
    "- \"baab\": $n_0$, $n_2$, $n_1$, $n_3$, $n_1$.\n",
    "- \"\": $n_0$.\n",
    "\n",
    "Como esto es un laberinto, tenemos algunos nodos designados como \"nodos de salida\". Un recorrido llega a la salida si el último nodo por el que pasa es un \"nodo de salida\". Por ejemplo, si establecemos $n_2$ como única salida, tenemos que `\"abba\"` llega a la salida, pero los otros recorridos (`\"baab\"`, `\"\"`) no llegan.\n",
    "\n",
    "Para esta pregunta, considere la siguiente implementación de la clase `Nodo`, que representa nodos de este laberinto."
   ]
  },
  {
   "cell_type": "code",
   "execution_count": 12,
   "metadata": {
    "collapsed": true
   },
   "outputs": [],
   "source": [
    "class Nodo:\n",
    "    def __init__(self, salida=False):\n",
    "        self.adj = {}\n",
    "        self.salida = salida\n",
    "        \n",
    "    def agregar_vecino(self, nodo, letra):\n",
    "        self.adj[letra] = nodo"
   ]
  },
  {
   "cell_type": "markdown",
   "metadata": {},
   "source": [
    "1\\. **(8 pts)** Implemente el método `recorrer(self, palabra: str) -> bool` de la clase `Nodo`. El método debe recibir una palabra, y debe retornar `True` si el recorrido descrito por el `string` (partiendo por este nodo) termina en un nodo de salida. En otro caso, el método debe retornar `False`."
   ]
  },
  {
   "cell_type": "markdown",
   "metadata": {},
   "source": [
    "**Solución**\n",
    "\n",
    "Puntaje completo si la solución es correcta y funciona. En caso contrario:\n",
    "\n",
    "- **2.5 pts** si es capaz de avanzar al segundo nodo según la primera letra de la palabra.\n",
    "- **2.5 pts** si es capaz de avanzar al nodo siguiente en las demás posiciones de la palabra, según la letra correspondiente.\n",
    "- **2 pts** si retorna `True` en las situaciones donde esto debe ocurrir.\n",
    "- **1 pt** si retorna `False` en la situaciones donde no se debe retornar `True`.\n",
    "\n",
    "En cualquier caso, descontar medio punto si ocupa parámetros adicionales en la función. Además, puntajes intermedios están permitidos."
   ]
  },
  {
   "cell_type": "code",
   "execution_count": 13,
   "metadata": {
    "collapsed": true
   },
   "outputs": [],
   "source": [
    "class Nodo:\n",
    "    def __init__(self, salida=False):\n",
    "        self.adj = {}\n",
    "        self.salida = salida\n",
    "        \n",
    "    def agregar_vecino(self, nodo, letra):\n",
    "        self.adj[letra] = nodo\n",
    "        \n",
    "    def recorrer(self, palabra):\n",
    "        \"\"\"\n",
    "        Revisa si el camino dado por la palabra termina en un nodo meta.\n",
    "        Se considera este como el nodo origen. \n",
    "        \"\"\"\n",
    "        if not palabra:\n",
    "            return self.salida\n",
    "        nodo_siguiente = self.adj[palabra[0]]\n",
    "        return nodo_siguiente.recorrer(palabra[1:])"
   ]
  },
  {
   "cell_type": "code",
   "execution_count": 21,
   "metadata": {},
   "outputs": [
    {
     "name": "stdout",
     "output_type": "stream",
     "text": [
      "True\n",
      "False\n",
      "False\n",
      "False\n"
     ]
    }
   ],
   "source": [
    "n0 = Nodo()\n",
    "n1 = Nodo()\n",
    "n2 = Nodo(salida=True)\n",
    "n3 = Nodo()\n",
    "\n",
    "n0.agregar_vecino(n1, 'a')\n",
    "n0.agregar_vecino(n2, 'b')\n",
    "n1.agregar_vecino(n3, 'a')\n",
    "n1.agregar_vecino(n2, 'b')\n",
    "n2.agregar_vecino(n1, 'a')\n",
    "n2.agregar_vecino(n3, 'b')\n",
    "n3.agregar_vecino(n2, 'a')\n",
    "n3.agregar_vecino(n1, 'b')\n",
    "\n",
    "print(n0.recorrer('abba'))\n",
    "print(n0.recorrer('baab'))\n",
    "print(n0.recorrer(''))\n",
    "print(n0.recorrer('aab'))"
   ]
  },
  {
   "cell_type": "markdown",
   "metadata": {},
   "source": [
    "Considere esta versión alternativa de la clase `Nodo`:"
   ]
  },
  {
   "cell_type": "code",
   "execution_count": 3,
   "metadata": {
    "collapsed": true
   },
   "outputs": [],
   "source": [
    "class NodoV2:\n",
    "    def __init__(self, salida=False):\n",
    "        self.adj = []\n",
    "        self.salida = salida\n",
    "        \n",
    "    def agregar_vecino(self, nodo, letra):\n",
    "        self.adj.append((letra, nodo))"
   ]
  },
  {
   "cell_type": "markdown",
   "metadata": {},
   "source": [
    "2\\. **(2 pts)** Indique qué versión de la clase `Nodo` es más eficiente para recorrer el grafo. Justifique su respuesta en no más de 4 líneas."
   ]
  },
  {
   "cell_type": "markdown",
   "metadata": {},
   "source": [
    "**Solución**\n",
    "\n",
    "La versión original es más eficiente, ya que no es necesario buscar donde está el par `(letra, nodo)` correspondiente, sino que dada la `letra` se obtiene acceso inmediato al `nodo`. \n",
    "\n",
    "- **1 pt** por decir que la original es más eficiente.\n",
    "- **1 pt** por dar una justificación correcta y que aplique para el caso."
   ]
  },
  {
   "cell_type": "markdown",
   "metadata": {},
   "source": [
    "Una variante de este tipo de laberintos es permitir que haya más de una arista saliente etiquetada con la misma letra, como muestra la imagen."
   ]
  },
  {
   "cell_type": "markdown",
   "metadata": {},
   "source": [
    "IMAGE PLACEHOLDER"
   ]
  },
  {
   "cell_type": "markdown",
   "metadata": {},
   "source": [
    "En tal caso, un mismo _string_ puede representar más de un recorrido. Por ejemplo, `\"abba\"` puede representar el camino $n_0$, $n_1$, $n_2$, $n_3$, $n_2$, o bien el camino  $n_0$, $n_0$, $n_2$, $n_3$, $n_2$.\n",
    "\n",
    "3\\. **(6 pts)** Modifique la clase `Nodo` original para poder modelar este nuevo grafo."
   ]
  },
  {
   "cell_type": "markdown",
   "metadata": {},
   "source": [
    "**Solución**\n",
    "\n",
    "**4 puntos** si la representación funciona. El desglose es:\n",
    "\n",
    "- **2 pts** por adaptar los atributos de la clase de una forma que podría funcionar, o mantenerlos tal cual y usarlos de otra manera en la función `agregar_vecino`.\n",
    "- **2 pts** por adaptar el método `agregar_vecino` según los atributos de la clase.\n",
    "\n",
    "Además, se asigna:\n",
    "\n",
    "- **2 pts** por hacer esta representación razonablemente eficiente, esto es, como mínimo ocupar un diccionario con las letras, cuyos valores se agrupan en una lista o un _set_.\n",
    "\n",
    "\n",
    "**Colocar una estrellita si ocupa `defaultdict`**.\n",
    "\n",
    "**N del E**: Es válido ocupar la representación de `NodoV2`. Sin embargo, sólo obtiene 4 de los 6 puntos debido a que podría ser más ineficiente."
   ]
  },
  {
   "cell_type": "code",
   "execution_count": 5,
   "metadata": {
    "collapsed": true
   },
   "outputs": [],
   "source": [
    "class Nodo:\n",
    "    def __init__(self, salida=False):\n",
    "        self.adj = {}\n",
    "        self.salida = salida\n",
    "        \n",
    "    def agregar_vecino(self, nodo, letra):\n",
    "        if letra not in self.adj:\n",
    "            self.adj[letra] = set()\n",
    "        self.adj[letra].add(nodo)"
   ]
  },
  {
   "cell_type": "markdown",
   "metadata": {},
   "source": [
    "4\\. **(8 pts)** Suponiendo que usted materializó las modificaciones del punto anterior, vuelva a implementar el método `recorrer` para que retorne `True` si **alguno** de los recorridos que representa la palabra llega a alguna salida.\n",
    "\n",
    "**Solución**\n",
    "\n",
    "Puntaje completo si funciona y es correcta. En caso contrario:\n",
    "\n",
    "- **1.5 pts** si es capaz de avanzar a un nodo siguiente (válido) según la primera letra de la palabra.\n",
    "- **1.5 pts** si es capaz de avanzar a algún nodo siguiente (válido) con las demás letras\n",
    "- **3 pts** si explora todos los caminos posibles, o lo haría en el caso en que no exista ningún camino válido.\n",
    "- **1 pt** si retorna `True` cuando detecta un camino válido.\n",
    "- **1 pt** si retorna `False` cuando no detecta un camino válido."
   ]
  },
  {
   "cell_type": "code",
   "execution_count": 22,
   "metadata": {
    "collapsed": true
   },
   "outputs": [],
   "source": [
    "class Nodo:\n",
    "    def __init__(self, salida=False):\n",
    "        self.adj = {}\n",
    "        self.salida = salida\n",
    "        \n",
    "    def agregar_vecino(self, nodo, letra):\n",
    "        if letra not in self.adj:\n",
    "            self.adj[letra] = set()\n",
    "        self.adj[letra].add(nodo)\n",
    "        \n",
    "    def recorrer(self, palabra):\n",
    "        \"\"\"\n",
    "        Revisa si el camino dado por la palabra termina en un nodo meta.\n",
    "        Se considera este como el nodo origen. \n",
    "        \"\"\"\n",
    "        if not palabra:\n",
    "            return self.salida\n",
    "        nodos_siguientes = self.adj[palabra[0]]\n",
    "        return any(x.recorrer(palabra[1:]) for x in nodos_siguientes)"
   ]
  },
  {
   "cell_type": "code",
   "execution_count": 23,
   "metadata": {},
   "outputs": [
    {
     "name": "stdout",
     "output_type": "stream",
     "text": [
      "True\n",
      "False\n",
      "False\n",
      "True\n"
     ]
    }
   ],
   "source": [
    "n0 = Nodo()\n",
    "n1 = Nodo()\n",
    "n2 = Nodo(salida=True)\n",
    "n3 = Nodo()\n",
    "\n",
    "n0.agregar_vecino(n0, 'a')\n",
    "n0.agregar_vecino(n1, 'a')\n",
    "n0.agregar_vecino(n2, 'b')\n",
    "n1.agregar_vecino(n3, 'a')\n",
    "n1.agregar_vecino(n2, 'b')\n",
    "n2.agregar_vecino(n1, 'a')\n",
    "n2.agregar_vecino(n3, 'b')\n",
    "n3.agregar_vecino(n2, 'a')\n",
    "n3.agregar_vecino(n1, 'b')\n",
    "\n",
    "print(n0.recorrer('abba'))\n",
    "print(n0.recorrer('baab'))\n",
    "print(n0.recorrer(''))\n",
    "print(n0.recorrer('aab'))"
   ]
  },
  {
   "cell_type": "markdown",
   "metadata": {},
   "source": [
    "5\\. **(6 pts)** Implemente el método `se_puede_salir(self) -> bool` de la clase `Nodo` que retorna `True` si es posible -- con alguna palabra -- llegar a la salida partiendo por el nodo actual, y `False` en caso contrario. (Nota: Puede incluir más parámetros en el método, siempre y cuando sean opcionales.)\n",
    "\n",
    "**Solución**\n",
    "\n",
    "- **3 pt** si recorre el grafo probando con todos los nodos vecinos, con un algoritmo que trate de alcanzar todos los nodos \"alcanzables\".\n",
    "    - Asignar máximo 1.5 puntos si ocupa la versión 1 del grafo, en vez de la segunda.\n",
    "- **1.5 pt** si es capaz de retornar `True` cuando si se puede salir. \n",
    "    - Asignar sólo 0.75 puntos si el algoritmo se pudiera quedar pegado en este caso, pero podría retornar correctamente en ciertas instancias del problema.\n",
    "- **1.5 pt** si es capaz de retornar `False` cuando no se puede salir. \n",
    "    - Asignar sólo 0.75 puntos si el algoritmo se pudiera quedar pegado en este caso, pero podría retornar correctamente en ciertas instancias del problema.\n",
    "    - Asignar 0 puntos si el algoritmo consiste en probar todas las palabras posibles y no tiene manera de verificar que ya se han revisado todos los nodos posibles."
   ]
  },
  {
   "cell_type": "code",
   "execution_count": 32,
   "metadata": {
    "collapsed": true
   },
   "outputs": [],
   "source": [
    "class Nodo:\n",
    "    def __init__(self, salida=False):\n",
    "        self.adj = {}\n",
    "        self.salida = salida\n",
    "        \n",
    "    def agregar_vecino(self, nodo, letra):\n",
    "        if letra not in self.adj:\n",
    "            self.adj[letra] = set()\n",
    "        self.adj[letra].add(nodo)\n",
    "        \n",
    "    def recorrer(self, palabra):\n",
    "        \"\"\"\n",
    "        Revisa si el camino dado por la palabra termina en un nodo meta.\n",
    "        Se considera este como el nodo origen. \n",
    "        \"\"\"\n",
    "        if not palabra:\n",
    "            return self.salida\n",
    "        nodos_siguientes = self.adj[palabra[0]]\n",
    "        return any(x.recorrer(palabra[1:]) for x in nodos_siguientes)\n",
    "    \n",
    "    def se_puede_salir(self, recorrido=None):\n",
    "        \"\"\"\n",
    "        Revisa si existe alguna palabra desde el nodo actual que lleve a\n",
    "        la salida. \n",
    "        Casos borde: Ya se recorrió el nodo, y la salida es el nodo actual.\n",
    "        \"\"\"\n",
    "        if not recorrido:\n",
    "            recorrido = set()\n",
    "        if self.salida:\n",
    "            return True\n",
    "        if self in recorrido:\n",
    "            return False\n",
    "        \n",
    "        return any(x.se_puede_salir(recorrido | {self}) \n",
    "                   for letra in self.adj for x in self.adj[letra])"
   ]
  },
  {
   "cell_type": "code",
   "execution_count": 35,
   "metadata": {},
   "outputs": [
    {
     "name": "stdout",
     "output_type": "stream",
     "text": [
      "True\n",
      "False\n"
     ]
    }
   ],
   "source": [
    "n0 = Nodo()\n",
    "n1 = Nodo()\n",
    "n2 = Nodo(salida=True)\n",
    "n3 = Nodo()\n",
    "n4 = Nodo()\n",
    "\n",
    "n0.agregar_vecino(n0, 'a')\n",
    "n0.agregar_vecino(n1, 'a')\n",
    "n0.agregar_vecino(n2, 'b')\n",
    "n1.agregar_vecino(n3, 'a')\n",
    "n1.agregar_vecino(n2, 'b')\n",
    "n2.agregar_vecino(n1, 'a')\n",
    "n2.agregar_vecino(n3, 'b')\n",
    "n3.agregar_vecino(n2, 'a')\n",
    "n3.agregar_vecino(n1, 'b')\n",
    "\n",
    "print(n0.se_puede_salir())\n",
    "print(n4.se_puede_salir())"
   ]
  }
 ],
 "metadata": {
  "kernelspec": {
   "display_name": "Python 3",
   "language": "python",
   "name": "python3"
  },
  "language_info": {
   "codemirror_mode": {
    "name": "ipython",
    "version": 3
   },
   "file_extension": ".py",
   "mimetype": "text/x-python",
   "name": "python",
   "nbconvert_exporter": "python",
   "pygments_lexer": "ipython3",
   "version": "3.5.2"
  }
 },
 "nbformat": 4,
 "nbformat_minor": 2
}
